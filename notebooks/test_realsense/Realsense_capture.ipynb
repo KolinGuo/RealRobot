{
 "cells": [
  {
   "cell_type": "code",
   "execution_count": 1,
   "metadata": {},
   "outputs": [
    {
     "name": "stdout",
     "output_type": "stream",
     "text": [
      "SDK_VERSION: 1.13.8+patch20231009\n",
      "SDK_VERSION: 1.13.8+patch20231009\n",
      "ROBOT_IP: 192.168.1.229, VERSION: v1.12.10, PROTOCOL: V1, DETAIL: 7,7,XS1304,AC1302,v1.12.10, TYPE1300: [1, 1]\n",
      "change protocol identifier to 3\n"
     ]
    },
    {
     "name": "stderr",
     "output_type": "stream",
     "text": [
      "\u001b[32m[2023-10-20 17:46:12,359] [XArm7] [xarm.py:509] [INFO] Running <XArm7: ip=192.168.1.229, control_mode=pd_ee_delta_pos, motion_mode=cartesian_online, with_hand_camera=True> as a separate process\u001b[0m\n",
      "\u001b[32m[2023-10-20 17:46:12,584] [realsense.py] [realsense.py:52] [INFO] Found Intel RealSense D435 (S/N: 146322076186 FW: 5.15.1 on USB 3.2)\u001b[0m\n",
      "\u001b[32m[2023-10-20 17:46:12,585] [realsense.py] [realsense.py:57] [INFO] Found 1 devices\u001b[0m\n",
      "\u001b[32m[2023-10-20 17:46:12,931] [RSDevice] [realsense.py:316] [INFO] Loaded \"Default\" preset for <RSDevice: hand_camera (Intel RealSense D435, S/N: 146322076186)>\u001b[0m\n",
      "\u001b[32m[2023-10-20 17:46:12,932] [RSDevice] [realsense.py:324] [INFO] Setting Depth option \"option.laser_power\" to 360\u001b[0m\n",
      "\u001b[32m[2023-10-20 17:46:12,932] [RSDevice] [realsense.py:411] [INFO] Running <RSDevice: hand_camera (Intel RealSense D435, S/N: 146322076186)> as a separate process\u001b[0m\n",
      "\u001b[32m[2023-10-20 17:46:13,740] [RSDevice] [realsense.py:352] [INFO] Started device <RSDevice: hand_camera (Intel RealSense D435, S/N: 146322076186)> with 4 streams\u001b[0m\n",
      "\u001b[32m[2023-10-20 17:46:13,740] [RSDevice] [realsense.py:354] [INFO] Stream 1: <pyrealsense2.[video_]stream_profile: Depth(0) 848x480 @ 60fps Z16>\u001b[0m\n",
      "\u001b[32m[2023-10-20 17:46:13,740] [RSDevice] [realsense.py:354] [INFO] Stream 2: <pyrealsense2.[video_]stream_profile: Infrared(1) 848x480 @ 60fps Y8>\u001b[0m\n",
      "\u001b[32m[2023-10-20 17:46:13,740] [RSDevice] [realsense.py:354] [INFO] Stream 3: <pyrealsense2.[video_]stream_profile: Infrared(2) 848x480 @ 60fps Y8>\u001b[0m\n",
      "\u001b[32m[2023-10-20 17:46:13,740] [RSDevice] [realsense.py:354] [INFO] Stream 4: <pyrealsense2.[video_]stream_profile: Color(0) 848x480 @ 60fps RGB8>\u001b[0m\n",
      "\u001b[32m[2023-10-20 17:46:14,896] [CV2Visualizer] [cv2_visualizer.py:162] [INFO] Running <CV2Visualizer: Images> as a separate process\u001b[0m\n"
     ]
    },
    {
     "name": "stdout",
     "output_type": "stream",
     "text": [
      "FEngine (64 bits) created at 0x55767f487c80 (threading is enabled)\n",
      "FEngine resolved backend: OpenGL\n"
     ]
    },
    {
     "name": "stderr",
     "output_type": "stream",
     "text": [
      "\u001b[32m[2023-10-20 17:46:17,217] [O3DGUIVisualizer] [o3d_gui_visualizer.py:1579] [INFO] Running <O3DGUIVisualizer: Point Clouds> as a separate process\u001b[0m\n"
     ]
    },
    {
     "data": {
      "text/plain": [
       "<Camera: hand_camera (S/N: 146322076186) config={'Color': (848, 480, 60), 'Depth': (848, 480, 60), 'Infrared 1': (848, 480, 60), 'Infrared 2': (848, 480, 60)}>"
      ]
     },
     "execution_count": 1,
     "metadata": {},
     "output_type": "execute_result"
    }
   ],
   "source": [
    "from pathlib import Path\n",
    "import pyrealsense2 as rs\n",
    "import numpy as np\n",
    "from sapien import Pose\n",
    "from transforms3d.euler import euler2quat\n",
    "from real_robot.agents import XArm7\n",
    "from real_robot.sensors.camera import CameraConfig, Camera\n",
    "from real_robot.utils.visualization import Visualizer\n",
    "from real_robot.utils.multiprocessing import ctx, SharedObject, start_and_wait_for_process\n",
    "\n",
    "# device = get_connected_rs_devices('146322076186')\n",
    "# device = get_connected_rs_devices('146322072630')\n",
    "\n",
    "agent_proc = ctx.Process(\n",
    "    target=XArm7, name=\"XArm7_state_stream\",\n",
    "    args=(\"192.168.1.229\", \"pd_ee_delta_pos\", \"cartesian_online\"),\n",
    "    kwargs=dict(\n",
    "        with_hand_camera=True,\n",
    "        run_as_process=True,\n",
    "    )\n",
    ")\n",
    "start_and_wait_for_process(agent_proc, timeout=30)\n",
    "so_agent_start = SharedObject(\"start_xarm7_real\")\n",
    "so_agent_start.assign(True)\n",
    "\n",
    "pose_tcp_cam = Pose(p=[0, 0, 0.177]).inv() * Pose(\n",
    "    p=[-0.06042734, 0.0175, 0.02915237],\n",
    "    q=euler2quat(np.pi, -np.pi/2-np.pi/12, np.pi)\n",
    ") * Pose(p=[0, 0.015, 0])  # camera_color_frame\n",
    "camera = Camera(\n",
    "    CameraConfig(\n",
    "        \"hand_camera\", None, pose_tcp_cam, config={\n",
    "            \"Color\": (848, 480, 60),\n",
    "            \"Depth\": (848, 480, 60),\n",
    "            \"Infrared 1\": (848, 480, 60),\n",
    "            \"Infrared 2\": (848, 480, 60),\n",
    "        }, preset=\"Default\", parent_pose_so_name=\"xarm7_real_tcp_pose\",\n",
    "        depth_option_kwargs={rs.option.laser_power: 360}\n",
    "    ),\n",
    ")\n",
    "\n",
    "visualizer = Visualizer(run_as_process=True, stream_camera=True, stream_robot=True)\n",
    "camera"
   ]
  },
  {
   "cell_type": "code",
   "execution_count": 2,
   "metadata": {},
   "outputs": [
    {
     "data": {
      "text/plain": [
       "dict_keys(['rgb', 'depth', 'ir_l', 'ir_r'])"
      ]
     },
     "execution_count": 2,
     "metadata": {},
     "output_type": "execute_result"
    }
   ],
   "source": [
    "image_obs = camera.get_images(True)\n",
    "image_obs.keys()"
   ]
  },
  {
   "cell_type": "code",
   "execution_count": 3,
   "metadata": {},
   "outputs": [],
   "source": [
    "tag = \"60cm_max_power\"\n",
    "\n",
    "save_dir = Path(\"capture\").resolve()\n",
    "save_dir.mkdir(parents=True, exist_ok=True)\n",
    "\n",
    "camera.take_picture()\n",
    "np.savez(save_dir / f\"{tag}_images.npz\", **camera.get_images())\n",
    "np.savez(save_dir / f\"{tag}_params.npz\", **camera.get_params())"
   ]
  },
  {
   "cell_type": "code",
   "execution_count": 4,
   "metadata": {},
   "outputs": [],
   "source": [
    "visualizer.render()"
   ]
  }
 ],
 "metadata": {
  "kernelspec": {
   "display_name": "Python 3",
   "language": "python",
   "name": "python3"
  },
  "language_info": {
   "codemirror_mode": {
    "name": "ipython",
    "version": 3
   },
   "file_extension": ".py",
   "mimetype": "text/x-python",
   "name": "python",
   "nbconvert_exporter": "python",
   "pygments_lexer": "ipython3",
   "version": "3.10.12"
  }
 },
 "nbformat": 4,
 "nbformat_minor": 2
}
