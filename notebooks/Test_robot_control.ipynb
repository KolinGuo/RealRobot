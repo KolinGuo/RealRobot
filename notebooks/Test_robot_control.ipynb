{
 "cells": [
  {
   "cell_type": "code",
   "execution_count": 1,
   "metadata": {},
   "outputs": [
    {
     "name": "stdout",
     "output_type": "stream",
     "text": [
      "SDK_VERSION: 1.11.6\n",
      "ROBOT_IP: 192.168.1.229, VERSION: v1.12.10, PROTOCOL: V1, DETAIL: 7,7,XS1304,AC1302,v1.12.10, TYPE1300: [1, 1]\n",
      "change prot_flag to 3\n",
      "************* GetErrorWarnCode, Status: 0 **************\n",
      "* ErrorCode: 0, Info: Normal\n",
      "* WarnCode: 0, Info: Normal\n",
      "**************************************************\n",
      "[motion_enable], xArm is not ready to move\n",
      "[set_state], xArm is ready to move\n"
     ]
    },
    {
     "data": {
      "text/plain": [
       "<real_robot.agents.xarm.XArm7 at 0x7f84e9697cd0>"
      ]
     },
     "execution_count": 1,
     "metadata": {},
     "output_type": "execute_result"
    }
   ],
   "source": [
    "from real_robot.agents.xarm import XArm7\n",
    "import numpy as np\n",
    "\n",
    "robot = XArm7(motion_mode=\"cartesian_online\")\n",
    "robot"
   ]
  },
  {
   "cell_type": "code",
   "execution_count": 5,
   "metadata": {},
   "outputs": [
    {
     "name": "stderr",
     "output_type": "stream",
     "text": [
      "\u001b[38;21mXArm7 - (xarm.py:227) - INFO - 2023-08-28 18:39 - Setting tgt_tcp_pose = Pose([563.877, 100.014, 186.871], [6.5583e-06, 0.707109, 0.707104, 1.24303e-05]), gripper_pos = 850.0\u001b[0m\n",
      "\u001b[38;21mXArm7 - (xarm.py:227) - INFO - 2023-08-28 18:39 - Setting tgt_tcp_pose = Pose([363.876, -99.9844, 186.864], [6.5583e-06, 0.707109, 0.707104, 1.24303e-05]), gripper_pos = -10.0\u001b[0m\n"
     ]
    },
    {
     "data": {
      "text/plain": [
       "(0, 0)"
      ]
     },
     "execution_count": 5,
     "metadata": {},
     "output_type": "execute_result"
    },
    {
     "name": "stdout",
     "output_type": "stream",
     "text": [
      "ControllerError, code: 1\n",
      "[SDK][ERROR][2023-08-28 19:53:14][base.py:161] - - [report-socket] socket read timeout\n",
      "servo_error_code, servo_id=1, status=3, code=0\n",
      "servo_error_code, servo_id=2, status=3, code=0\n",
      "servo_error_code, servo_id=3, status=3, code=0\n",
      "servo_error_code, servo_id=4, status=3, code=0\n",
      "servo_error_code, servo_id=5, status=3, code=0\n",
      "servo_error_code, servo_id=6, status=3, code=0\n",
      "servo_error_code, servo_id=7, status=3, code=0\n",
      "ControllerError had clean\n",
      "ControllerError, code: 1\n"
     ]
    }
   ],
   "source": [
    "import time\n",
    "robot.set_action([1, 1, 0, 1], speed=100, skip_gripper=False)\n",
    "#time.sleep(0.5)\n",
    "robot.set_action([-1, -1, 0, -1], speed=100)"
   ]
  },
  {
   "cell_type": "code",
   "execution_count": 2,
   "metadata": {},
   "outputs": [
    {
     "name": "stdout",
     "output_type": "stream",
     "text": [
      "************* GetErrorWarnCode, Status: 0 **************\n",
      "* ErrorCode: 0, Info: Normal\n",
      "* WarnCode: 0, Info: Normal\n",
      "**************************************************\n"
     ]
    },
    {
     "data": {
      "text/plain": [
       "0"
      ]
     },
     "execution_count": 2,
     "metadata": {},
     "output_type": "execute_result"
    }
   ],
   "source": [
    "import time\n",
    "speed = 20\n",
    "\n",
    "robot.clean_warning_error(mode=6)\n",
    "\n",
    "for i in range(10):\n",
    "    # run on mode(6)\n",
    "    # the running command will be interrupted, and run the new command\n",
    "    robot.arm.set_servo_angle(angle=[120, 0, 0, 60, 0, 60, -90], speed=speed, is_radian=False, wait=False)\n",
    "    time.sleep(1)\n",
    "    # the running command will be interrupted, and run the new command\n",
    "    robot.arm.set_servo_angle(angle=[-120, 0, 0, 60, 0, 60, -90], speed=speed, is_radian=False, wait=False)\n",
    "    time.sleep(1)\n",
    "\n",
    "robot.arm.set_servo_angle(angle=[0, 0, 0, 60, 0, 60, -90], speed=speed, is_radian=False, wait=False)"
   ]
  },
  {
   "cell_type": "code",
   "execution_count": 2,
   "metadata": {},
   "outputs": [
    {
     "name": "stdout",
     "output_type": "stream",
     "text": [
      "************* GetErrorWarnCode, Status: 0 **************\n",
      "* ErrorCode: 0, Info: Normal\n",
      "* WarnCode: 0, Info: Normal\n",
      "**************************************************\n",
      "[motion_enable], xArm is not ready to move\n",
      "[set_state], xArm is ready to move\n",
      "-150 0\n",
      "150 0\n",
      "-150 0\n",
      "150 0\n",
      "-150 0\n",
      "150 0\n"
     ]
    }
   ],
   "source": [
    "import time\n",
    "speed = 20\n",
    "\n",
    "# robot.clean_warning_error(mode=0)\n",
    "\n",
    "# robot.arm.set_position(x=400, y=-50, z=150, roll=-180, pitch=0, yaw=0, speed=100, is_radian=False, wait=True)\n",
    "\n",
    "# set mode: cartesian online trajectory planning mode\n",
    "# the running command will be interrupted when the next command is received\n",
    "robot.clean_warning_error(mode=7)\n",
    "\n",
    "speed = 70\n",
    "\n",
    "for i in range(10):\n",
    "    # run on mode(7)\n",
    "    # the running command will be interrupted, and run the new command\n",
    "    code = robot.arm.set_position(x=500, y=-150, z=200, roll=-200, pitch=-20, yaw=0, speed=speed, is_radian=False, wait=False)\n",
    "    print(-150, code)\n",
    "    time.sleep(1)\n",
    "    # the running command will be interrupted, and run the new command\n",
    "    code = robot.arm.set_position(x=300, y=100, z=120, roll=-160, pitch=20, yaw=0, speed=speed, is_radian=False, wait=False)\n",
    "    print(150, code)\n",
    "    time.sleep(1)"
   ]
  },
  {
   "cell_type": "code",
   "execution_count": 3,
   "metadata": {},
   "outputs": [
    {
     "name": "stdout",
     "output_type": "stream",
     "text": [
      "************* GetErrorWarnCode, Status: 0 **************\n",
      "* ErrorCode: 0, Info: Normal\n",
      "* WarnCode: 0, Info: Normal\n",
      "**************************************************\n",
      "[motion_enable], xArm is not ready to move\n",
      "[set_state], xArm is ready to move\n"
     ]
    },
    {
     "data": {
      "text/plain": [
       "0"
      ]
     },
     "execution_count": 3,
     "metadata": {},
     "output_type": "execute_result"
    }
   ],
   "source": [
    "# set mode: cartesian online trajectory planning mode\n",
    "# the running command will be interrupted when the next command is received\n",
    "robot.clean_warning_error(mode=7)\n",
    "\n",
    "robot.arm.set_position(x=400, y=-150, z=150, roll=-180, pitch=0, yaw=0, speed=20, is_radian=False, wait=False)"
   ]
  },
  {
   "cell_type": "code",
   "execution_count": null,
   "metadata": {},
   "outputs": [],
   "source": []
  },
  {
   "cell_type": "code",
   "execution_count": null,
   "metadata": {},
   "outputs": [],
   "source": []
  },
  {
   "cell_type": "code",
   "execution_count": null,
   "metadata": {},
   "outputs": [],
   "source": []
  },
  {
   "cell_type": "code",
   "execution_count": 1,
   "metadata": {},
   "outputs": [
    {
     "name": "stdout",
     "output_type": "stream",
     "text": [
      "SDK_VERSION: 1.11.6\n",
      "ROBOT_IP: 192.168.1.229, VERSION: v1.12.10, PROTOCOL: V1, DETAIL: 7,7,XS1304,AC1302,v1.12.10, TYPE1300: [1, 1]\n",
      "change prot_flag to 3\n",
      "************* GetErrorWarnCode, Status: 0 **************\n",
      "* ErrorCode: 0, Info: Normal\n",
      "* WarnCode: 0, Info: Normal\n",
      "**************************************************\n"
     ]
    },
    {
     "name": "stderr",
     "output_type": "stream",
     "text": [
      "/usr/local/lib/python3.10/dist-packages/gym/logger.py:34: UserWarning: \u001b[33mWARN: Box bound precision lowered by casting to float32\u001b[0m\n",
      "  warnings.warn(colorize(\"%s: %s\" % (\"WARN\", msg % args), \"yellow\"))\n",
      "\u001b[38;21mXArm7 - (xarm.py:170) - INFO - 2023-07-26 16:54 - Setting action = array([ 1.87377930e-02,  1.31103516e-01, -3.38132202e+02, -1.57081753e+00,\n",
      "       -8.34516806e-06, -8.68216273e-06, -1.00000000e+01])\u001b[0m\n"
     ]
    },
    {
     "name": "stdout",
     "output_type": "stream",
     "text": [
      "[motion_enable], xArm is not ready to move\n",
      "[set_state], xArm is ready to move\n"
     ]
    },
    {
     "data": {
      "text/plain": [
       "(0, 0)"
      ]
     },
     "execution_count": 1,
     "metadata": {},
     "output_type": "execute_result"
    }
   ],
   "source": [
    "from real_robot.agents.xarm import XArm7\n",
    "import numpy as np\n",
    "\n",
    "robot = XArm7(control_mode=\"pd_ee_pose\")\n",
    "robot.set_action(np.array([.464, 0, .525, np.pi/2, 0, np.pi/2, -1]))"
   ]
  },
  {
   "cell_type": "code",
   "execution_count": 1,
   "metadata": {},
   "outputs": [
    {
     "name": "stdout",
     "output_type": "stream",
     "text": [
      "SDK_VERSION: 1.11.6\n",
      "ROBOT_IP: 192.168.1.229, VERSION: v1.12.10, PROTOCOL: V1, DETAIL: 7,7,XS1304,AC1302,v1.12.10, TYPE1300: [1, 1]\n",
      "change prot_flag to 3\n",
      "************* GetErrorWarnCode, Status: 0 **************\n",
      "* ErrorCode: 0, Info: Normal\n",
      "* WarnCode: 0, Info: Normal\n",
      "**************************************************\n",
      "[motion_enable], xArm is not ready to move\n",
      "[set_state], xArm is ready to move\n",
      "************* GetErrorWarnCode, Status: 0 **************\n",
      "* ErrorCode: 0, Info: Normal\n",
      "* WarnCode: 0, Info: Normal\n",
      "**************************************************\n",
      "[motion_enable], xArm is not ready to move\n",
      "[set_state], xArm is ready to move\n",
      "robot arm mode 4\n",
      "**Starting tcp pose [4.6386895e-01 3.3257907e-06 1.8686989e-01 3.7534314e-06 7.0710438e-01\n",
      " 7.0710915e-01 2.3086064e-07]\n"
     ]
    },
    {
     "name": "stderr",
     "output_type": "stream",
     "text": [
      "\u001b[38;21mXArm7 - (xarm.py:161) - INFO - 2023-07-14 22:58 - delta_xyz = array([-62.41415009,  60.94326487, -22.96206527]) actual_delta_xyz = array([-62.41414 ,  60.943306, -22.962063], dtype=float32) gripper_action = 645.781361319306\u001b[0m\n"
     ]
    },
    {
     "name": "stdout",
     "output_type": "stream",
     "text": [
      "robot arm mode 4\n",
      "After 0 - tcp pose [ 4.8757461e-01 -2.2871429e-02  2.0485710e-01 -1.9596653e-05\n",
      "  7.0712781e-01  7.0708567e-01  2.6028597e-04]\n"
     ]
    },
    {
     "name": "stderr",
     "output_type": "stream",
     "text": [
      "\u001b[38;21mXArm7 - (xarm.py:161) - INFO - 2023-07-14 22:58 - delta_xyz = array([ 34.06482588, -57.46227883, -10.41288067]) actual_delta_xyz = array([ 34.06483 , -57.462303, -10.412887], dtype=float32) gripper_action = 289.5372718385671\u001b[0m\n"
     ]
    },
    {
     "name": "stdout",
     "output_type": "stream",
     "text": [
      "robot arm mode 4\n",
      "After 1 - tcp pose [ 4.6481442e-01  3.0042854e-04  2.1294637e-01  3.9980441e-04\n",
      " -7.0712847e-01 -7.0708495e-01 -2.6940022e-04]\n"
     ]
    },
    {
     "name": "stderr",
     "output_type": "stream",
     "text": [
      "\u001b[38;21mXArm7 - (xarm.py:161) - INFO - 2023-07-14 22:58 - delta_xyz = array([-72.08679526, -16.80807539,   9.97828197]) actual_delta_xyz = array([-72.08687 , -16.808123,   9.978294], dtype=float32) gripper_action = 751.2436510496259\u001b[0m\n"
     ]
    },
    {
     "name": "stdout",
     "output_type": "stream",
     "text": [
      "robot arm mode 4\n",
      "After 2 - tcp pose [ 4.5103547e-01 -2.2375820e-02  2.0528568e-01  3.0260152e-04\n",
      " -7.0704514e-01 -7.0716828e-01 -1.6960678e-04]\n"
     ]
    },
    {
     "name": "stderr",
     "output_type": "stream",
     "text": [
      "\u001b[38;21mXArm7 - (xarm.py:161) - INFO - 2023-07-14 22:58 - delta_xyz = array([32.77363119, 10.20146224, 99.82149217]) actual_delta_xyz = array([32.773674, 10.201513, 99.82152 ], dtype=float32) gripper_action = 735.5275200567892\u001b[0m\n"
     ]
    },
    {
     "name": "stdout",
     "output_type": "stream",
     "text": [
      "robot arm mode 4\n",
      "After 3 - tcp pose [ 4.5931748e-01 -8.6292403e-04  1.8119197e-01  1.6878128e-04\n",
      " -7.0713359e-01 -7.0707995e-01 -3.9038685e-05]\n"
     ]
    },
    {
     "name": "stderr",
     "output_type": "stream",
     "text": [
      "\u001b[38;21mXArm7 - (xarm.py:161) - INFO - 2023-07-14 22:58 - delta_xyz = array([ 67.22893616, -17.85292329,  43.92958556]) actual_delta_xyz = array([ 50.725193, -17.85165 ,  43.92466 ], dtype=float32) gripper_action = -5.784931168051688\u001b[0m\n"
     ]
    },
    {
     "name": "stdout",
     "output_type": "stream",
     "text": [
      "robot arm mode 4\n",
      "After 4 - tcp pose [ 4.4559327e-01  2.1391863e-02  1.5745887e-01  2.5307763e-04\n",
      " -7.0712548e-01 -7.0708805e-01  7.9959382e-06]\n"
     ]
    },
    {
     "name": "stderr",
     "output_type": "stream",
     "text": [
      "\u001b[38;21mXArm7 - (xarm.py:161) - INFO - 2023-07-14 22:58 - delta_xyz = array([  3.35417312, -62.77551392, -70.5515808 ]) actual_delta_xyz = array([  3.3542514, -62.775463 , -70.55159  ], dtype=float32) gripper_action = 340.5574230599551\u001b[0m\n"
     ]
    },
    {
     "name": "stdout",
     "output_type": "stream",
     "text": [
      "robot arm mode 4\n",
      "After 5 - tcp pose [ 4.2224237e-01  2.4784248e-02  1.8044643e-01  3.7846999e-04\n",
      " -7.0712966e-01 -7.0708376e-01  1.2688499e-04]\n"
     ]
    },
    {
     "name": "stderr",
     "output_type": "stream",
     "text": [
      "\u001b[38;21mXArm7 - (xarm.py:161) - INFO - 2023-07-14 22:58 - delta_xyz = array([ 53.40321575, -70.06401093,  62.48607282]) actual_delta_xyz = array([ 25.17727 , -70.062164,  62.47607 ], dtype=float32) gripper_action = 833.133362350991\u001b[0m\n"
     ]
    },
    {
     "name": "stdout",
     "output_type": "stream",
     "text": [
      "robot arm mode 4\n",
      "After 6 - tcp pose [ 3.9832237e-01  4.4694077e-02  1.5864690e-01  3.9960109e-04\n",
      " -7.0706123e-01 -7.0715219e-01 -1.3123771e-04]\n"
     ]
    },
    {
     "name": "stderr",
     "output_type": "stream",
     "text": [
      "\u001b[38;21mXArm7 - (xarm.py:161) - INFO - 2023-07-14 22:58 - delta_xyz = array([87.30822707, 87.65364821, 79.15846718]) actual_delta_xyz = array([ 5.2352247, 87.64306  , 79.096855 ], dtype=float32) gripper_action = 754.4872162254978\u001b[0m\n"
     ]
    },
    {
     "name": "stdout",
     "output_type": "stream",
     "text": [
      "robot arm mode 4\n",
      "After 7 - tcp pose [ 4.2069551e-01  5.0097767e-02  1.3397706e-01 -2.6574545e-04\n",
      "  7.0706135e-01  7.0715213e-01  2.8672160e-04]\n"
     ]
    },
    {
     "name": "stderr",
     "output_type": "stream",
     "text": [
      "\u001b[38;21mXArm7 - (xarm.py:161) - INFO - 2023-07-14 22:58 - delta_xyz = array([-84.28258129, -73.81576485,   1.49524874]) actual_delta_xyz = array([-84.28261  , -73.815735 ,   1.4952421], dtype=float32) gripper_action = 312.7649719867166\u001b[0m\n"
     ]
    },
    {
     "name": "stdout",
     "output_type": "stream",
     "text": [
      "robot arm mode 4\n",
      "After 8 - tcp pose [4.0028608e-01 2.6279602e-02 1.3204800e-01 2.2039117e-04 7.0706761e-01\n",
      " 7.0714587e-01 1.8432733e-04]\n"
     ]
    },
    {
     "name": "stderr",
     "output_type": "stream",
     "text": [
      "\u001b[38;21mXArm7 - (xarm.py:161) - INFO - 2023-07-14 22:58 - delta_xyz = array([-48.77166903,  27.6107291 ,  -8.33394647]) actual_delta_xyz = array([-48.77165 ,  27.610748,  -8.333937], dtype=float32) gripper_action = 19.360934920824565\u001b[0m\n"
     ]
    },
    {
     "name": "stdout",
     "output_type": "stream",
     "text": [
      "robot arm mode 4\n",
      "After 9 - tcp pose [4.2199481e-01 3.4059233e-03 1.3770255e-01 2.3707772e-04 7.0703840e-01\n",
      " 7.0717496e-01 4.8186199e-04]\n"
     ]
    },
    {
     "name": "stdout",
     "output_type": "stream",
     "text": [
      "ControllerError, code: 1\n",
      "[SDK][ERROR][2023-07-14 23:00:48][base.py:161] - - [report-socket] socket read timeout\n",
      "[SDK][ERROR][2023-07-14 23:02:03][base.py:1142] - - client timeout over 90s, disconnect\n"
     ]
    }
   ],
   "source": [
    "from real_robot.agents.xarm import XArm7\n",
    "import time, numpy as np\n",
    "\n",
    "robot = XArm7(servo=False, velocity_ctrl=True, ignore_gripper_action=False)\n",
    "\n",
    "robot.reset(wait=True)\n",
    "print(\"robot arm mode\", robot.arm.mode)\n",
    "\n",
    "print(\"**Starting tcp pose\", robot.get_tcp_pose(), flush=True)\n",
    "for ac_id in range(10):\n",
    "    print(\"robot arm mode\", robot.arm.mode)\n",
    "    action = np.random.uniform(-1, 1, size=(4,))\n",
    "    robot.set_action(action, wait=False)\n",
    "    print(f\"After {ac_id} - tcp pose\", robot.get_tcp_pose(), flush=True)\n",
    "    # time.sleep(0.5)"
   ]
  },
  {
   "cell_type": "code",
   "execution_count": 4,
   "metadata": {},
   "outputs": [
    {
     "name": "stdout",
     "output_type": "stream",
     "text": [
      "ROBOT_IP: 192.168.1.229, VERSION: v1.12.10, PROTOCOL: V1, DETAIL: 7,7,XS1304,AC1302,v1.12.10, TYPE1300: [1, 1]\n",
      "change prot_flag to 3\n",
      "set position done\n"
     ]
    },
    {
     "ename": "KeyboardInterrupt",
     "evalue": "",
     "output_type": "error",
     "traceback": [
      "\u001b[0;31m---------------------------------------------------------------------------\u001b[0m",
      "\u001b[0;31mKeyboardInterrupt\u001b[0m                         Traceback (most recent call last)",
      "Cell \u001b[0;32mIn[4], line 36\u001b[0m\n\u001b[1;32m     32\u001b[0m     ret \u001b[39m=\u001b[39m arm\u001b[39m.\u001b[39mset_servo_cartesian(mvpose, speed\u001b[39m=\u001b[39m\u001b[39m1\u001b[39m, mvacc\u001b[39m=\u001b[39m\u001b[39m1\u001b[39m, mvtime\u001b[39m=\u001b[39m\u001b[39m50.0\u001b[39m)\n\u001b[1;32m     34\u001b[0m     \u001b[39m# print('set_servo_cartesian, ret={}'.format(ret))\u001b[39;00m\n\u001b[0;32m---> 36\u001b[0m     time\u001b[39m.\u001b[39;49msleep(\u001b[39m0.01\u001b[39;49m)\n\u001b[1;32m     38\u001b[0m \u001b[39mfor\u001b[39;00m i \u001b[39min\u001b[39;00m \u001b[39mrange\u001b[39m(\u001b[39m100\u001b[39m):\n\u001b[1;32m     40\u001b[0m     x \u001b[39m=\u001b[39m \u001b[39m563\u001b[39m \u001b[39m-\u001b[39m i\n",
      "\u001b[0;31mKeyboardInterrupt\u001b[0m: "
     ]
    }
   ],
   "source": [
    "import numpy as np\n",
    "import time\n",
    "from xarm.wrapper import XArmAPI\n",
    "\n",
    "arm = XArmAPI('192.168.1.229')\n",
    "\n",
    "\n",
    "arm.motion_enable(enable=True)\n",
    "\n",
    "arm.set_mode(0)\n",
    "\n",
    "arm.set_state(state=0)\n",
    "\n",
    "arm.set_position(*[463, -0.0, 186.866974, -180.00002, 0.0, 89.999981], wait=True, speed=50)\n",
    "print(\"set position done\", flush=True)\n",
    "\n",
    "arm.set_mode(1)\n",
    "\n",
    "arm.set_state(0)\n",
    "\n",
    "time.sleep(0.1)\n",
    "\n",
    "\n",
    "while arm.connected and arm.state != 4:\n",
    "\n",
    "    for i in range(100):\n",
    "\n",
    "        x = 463 + i\n",
    "\n",
    "        mvpose = [x, 0, 186.866974, -180.00002, 0.0, 89.999981]\n",
    "\n",
    "        ret = arm.set_servo_cartesian(mvpose, speed=100, mvacc=2000)\n",
    "\n",
    "        # print('set_servo_cartesian, ret={}'.format(ret))\n",
    "\n",
    "        time.sleep(0.01)\n",
    "\n",
    "    for i in range(100):\n",
    "\n",
    "        x = 563 - i\n",
    "\n",
    "        mvpose = [x, 0, 186.866974, -180.00002, 0.0, 89.999981]\n",
    "\n",
    "        ret = arm.set_servo_cartesian(mvpose, speed=100, mvacc=2000)\n",
    "\n",
    "        # print('set_servo_cartesian, ret={}'.format(ret))\n",
    "\n",
    "        time.sleep(0.01)\n",
    "\n",
    "\n",
    "arm.disconnect()"
   ]
  },
  {
   "cell_type": "code",
   "execution_count": 8,
   "metadata": {},
   "outputs": [
    {
     "name": "stdout",
     "output_type": "stream",
     "text": [
      "ROBOT_IP: 192.168.1.229, VERSION: v1.12.10, PROTOCOL: V1, DETAIL: 7,7,XS1304,AC1302,v1.12.10, TYPE1300: [1, 1]\n",
      "change prot_flag to 3\n",
      "set position done\n",
      "843.6285259723663\n"
     ]
    }
   ],
   "source": [
    "import numpy as np\n",
    "import time\n",
    "from xarm.wrapper import XArmAPI\n",
    "\n",
    "arm = XArmAPI('192.168.1.229')\n",
    "\n",
    "\n",
    "arm.motion_enable(enable=True)\n",
    "\n",
    "arm.set_mode(0)\n",
    "\n",
    "arm.set_state(state=0)\n",
    "\n",
    "arm.set_position(*[463, -0.0, 186.866974, -180.00002, 0.0, 89.999981], wait=True)\n",
    "print(\"set position done\", flush=True)\n",
    "\n",
    "arm.set_mode(5) # cartesian velocity control mode\n",
    "\n",
    "arm.set_state(0)\n",
    "\n",
    "time.sleep(0.1)\n",
    "\n",
    "arm.vc_set_cartesian_velocity([0, 20, 0, 0, 0, 0], is_tool_coord=True, duration=1.0)\n",
    "print(time.time() - tt)\n",
    "time.sleep(0.5)\n",
    "arm.vc_set_cartesian_velocity([0, -20, 0, 0, 0, 0], is_tool_coord=True, duration=-1.0)\n",
    "time.sleep(0.5)\n",
    "\n",
    "# tt = time.time()\n",
    "# while arm.connected and arm.state != 4 and time.time() - tt < 30:\n",
    "\n",
    "#     ttt = time.time()\n",
    "#     arm.vc_set_cartesian_velocity([0, 20, 0, 0, 0, 0], is_tool_coord=True, duration=1.0)\n",
    "#     print(time.time() - tt)\n",
    "#     time.sleep(2.0)\n",
    "#     arm.vc_set_cartesian_velocity([0, -20, 0, 0, 0, 0], is_tool_coord=True, duration=-1.0)\n",
    "#     time.sleep(2.0)\n",
    "\n",
    "\n",
    "arm.disconnect()"
   ]
  },
  {
   "cell_type": "code",
   "execution_count": 2,
   "metadata": {},
   "outputs": [
    {
     "data": {
      "text/plain": [
       "4"
      ]
     },
     "execution_count": 2,
     "metadata": {},
     "output_type": "execute_result"
    }
   ],
   "source": [
    "robot.arm.mode"
   ]
  },
  {
   "cell_type": "code",
   "execution_count": null,
   "metadata": {},
   "outputs": [],
   "source": []
  }
 ],
 "metadata": {
  "kernelspec": {
   "display_name": "Python 3",
   "language": "python",
   "name": "python3"
  },
  "language_info": {
   "codemirror_mode": {
    "name": "ipython",
    "version": 3
   },
   "file_extension": ".py",
   "mimetype": "text/x-python",
   "name": "python",
   "nbconvert_exporter": "python",
   "pygments_lexer": "ipython3",
   "version": "3.10.12"
  },
  "orig_nbformat": 4
 },
 "nbformat": 4,
 "nbformat_minor": 2
}
