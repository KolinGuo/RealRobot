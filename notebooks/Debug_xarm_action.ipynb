{
 "cells": [
  {
   "cell_type": "code",
   "execution_count": 1,
   "metadata": {},
   "outputs": [
    {
     "name": "stdout",
     "output_type": "stream",
     "text": [
      "SDK_VERSION: 1.11.6\n",
      "ROBOT_IP: 192.168.1.209, VERSION: v1.12.0, PROTOCOL: V1, DETAIL: 7,7,XS1203,XX0000,v1.12.0, TYPE1300: [0, 0]\n",
      "change prot_flag to 3\n",
      "************* GetErrorWarnCode, Status: 0 **************\n",
      "* ErrorCode: 0, Info: Normal\n",
      "* WarnCode: 0, Info: Normal\n",
      "**************************************************\n",
      "delta xyz [0. 0. 0.] gripper_action -10.0\n"
     ]
    },
    {
     "data": {
      "text/plain": [
       "(0, 0)"
      ]
     },
     "execution_count": 1,
     "metadata": {},
     "output_type": "execute_result"
    }
   ],
   "source": [
    "import numpy as np\n",
    "from real_robot.agents.xarm import XArm7\n",
    "\n",
    "robot = XArm7()\n",
    "robot.set_action(np.array([0, 0, 0, 1]))"
   ]
  },
  {
   "cell_type": "code",
   "execution_count": 30,
   "metadata": {},
   "outputs": [
    {
     "name": "stdout",
     "output_type": "stream",
     "text": [
      "************* GetErrorWarnCode, Status: 0 **************\n",
      "* ErrorCode: 31, Info: Collision Caused Abnormal Current\n",
      "* WarnCode: 0, Info: Normal\n",
      "**************************************************\n",
      "[motion_enable], xArm is not ready to move\n",
      "[set_state], xArm is ready to move\n",
      "[SDK][ERROR][2023-05-16 17:52:45][base.py:348] - - wait_move, xarm has error, error=31\n",
      "[SDK][ERROR][2023-05-16 17:52:45][base.py:348] - - wait_move, xarm has error, error=31\n",
      "ControllerError had clean\n"
     ]
    }
   ],
   "source": [
    "robot.reset()"
   ]
  },
  {
   "cell_type": "code",
   "execution_count": 29,
   "metadata": {},
   "outputs": [
    {
     "name": "stdout",
     "output_type": "stream",
     "text": [
      "delta xyz [   0. -100. -100.] gripper_action 850.0\n"
     ]
    },
    {
     "data": {
      "text/plain": [
       "(0, 0)"
      ]
     },
     "execution_count": 29,
     "metadata": {},
     "output_type": "execute_result"
    },
    {
     "name": "stdout",
     "output_type": "stream",
     "text": [
      "ControllerError, code: 31\n"
     ]
    }
   ],
   "source": [
    "robot.set_action(np.array([0, -1, -1, -1]))"
   ]
  },
  {
   "cell_type": "code",
   "execution_count": 2,
   "metadata": {},
   "outputs": [
    {
     "data": {
      "text/plain": [
       "array([ 0.        ,  0.        ,  0.        ,  1.04719758,  0.        ,\n",
       "        1.04719758, -1.57079637,  0.04427963,  0.04427963])"
      ]
     },
     "execution_count": 2,
     "metadata": {},
     "output_type": "execute_result"
    }
   ],
   "source": [
    "robot.get_qpos()"
   ]
  },
  {
   "cell_type": "code",
   "execution_count": 7,
   "metadata": {},
   "outputs": [
    {
     "name": "stdout",
     "output_type": "stream",
     "text": [
      "Jupyter environment detected. Enabling Open3D WebVisualizer.\n",
      "[Open3D INFO] WebRTC GUI backend enabled.\n",
      "[Open3D INFO] WebRTCWindowSystem: HTTP handshake server disabled.\n"
     ]
    }
   ],
   "source": [
    "import mani_skill2.envs\n",
    "import gym\n",
    "import numpy as np\n",
    "\n",
    "env = gym.make(\"PlaceCubeInBowlXArm-v5\", control_mode=\"pd_ee_delta_pos\")\n",
    "env.reset()\n",
    "\n",
    "env.agent.robot.get_qpos()\n",
    "env.agent.set_action(np.zeros(4))"
   ]
  },
  {
   "cell_type": "code",
   "execution_count": 18,
   "metadata": {},
   "outputs": [
    {
     "data": {
      "text/plain": [
       "Box([-1. -1. -1. -1.], [1. 1. 1. 1.], (4,), float32)"
      ]
     },
     "execution_count": 18,
     "metadata": {},
     "output_type": "execute_result"
    }
   ],
   "source": [
    "env.agent.controller.action_space"
   ]
  },
  {
   "cell_type": "code",
   "execution_count": 22,
   "metadata": {},
   "outputs": [],
   "source": [
    "env.agent.set_action(np.array([0, -1, 0, -1.0]))\n",
    "for i in range(1000):\n",
    "    env.unwrapped._scene.step()"
   ]
  },
  {
   "cell_type": "code",
   "execution_count": 23,
   "metadata": {},
   "outputs": [
    {
     "ename": "KeyboardInterrupt",
     "evalue": "",
     "output_type": "error",
     "traceback": [
      "\u001b[0;31m---------------------------------------------------------------------------\u001b[0m",
      "\u001b[0;31mKeyboardInterrupt\u001b[0m                         Traceback (most recent call last)",
      "Cell \u001b[0;32mIn[23], line 2\u001b[0m\n\u001b[1;32m      1\u001b[0m \u001b[39mwhile\u001b[39;00m \u001b[39mTrue\u001b[39;00m:\n\u001b[0;32m----> 2\u001b[0m     env\u001b[39m.\u001b[39;49mrender(\u001b[39m\"\u001b[39;49m\u001b[39mhuman\u001b[39;49m\u001b[39m\"\u001b[39;49m)\n",
      "File \u001b[0;32m/usr/local/lib/python3.10/dist-packages/gym/core.py:254\u001b[0m, in \u001b[0;36mWrapper.render\u001b[0;34m(self, mode, **kwargs)\u001b[0m\n\u001b[1;32m    253\u001b[0m \u001b[39mdef\u001b[39;00m \u001b[39mrender\u001b[39m(\u001b[39mself\u001b[39m, mode\u001b[39m=\u001b[39m\u001b[39m\"\u001b[39m\u001b[39mhuman\u001b[39m\u001b[39m\"\u001b[39m, \u001b[39m*\u001b[39m\u001b[39m*\u001b[39mkwargs):\n\u001b[0;32m--> 254\u001b[0m     \u001b[39mreturn\u001b[39;00m \u001b[39mself\u001b[39;49m\u001b[39m.\u001b[39;49menv\u001b[39m.\u001b[39;49mrender(mode, \u001b[39m*\u001b[39;49m\u001b[39m*\u001b[39;49mkwargs)\n",
      "File \u001b[0;32m/usr/local/lib/python3.10/dist-packages/mani_skill2/envs/sapien_env.py:686\u001b[0m, in \u001b[0;36mBaseEnv.render\u001b[0;34m(self, mode, **kwargs)\u001b[0m\n\u001b[1;32m    684\u001b[0m         \u001b[39mself\u001b[39m\u001b[39m.\u001b[39m_viewer \u001b[39m=\u001b[39m Viewer(\u001b[39mself\u001b[39m\u001b[39m.\u001b[39m_renderer)\n\u001b[1;32m    685\u001b[0m         \u001b[39mself\u001b[39m\u001b[39m.\u001b[39m_setup_viewer()\n\u001b[0;32m--> 686\u001b[0m     \u001b[39mself\u001b[39;49m\u001b[39m.\u001b[39;49m_viewer\u001b[39m.\u001b[39;49mrender()\n\u001b[1;32m    687\u001b[0m     \u001b[39mreturn\u001b[39;00m \u001b[39mself\u001b[39m\u001b[39m.\u001b[39m_viewer\n\u001b[1;32m    688\u001b[0m \u001b[39melif\u001b[39;00m mode \u001b[39m==\u001b[39m \u001b[39m\"\u001b[39m\u001b[39mrgb_array\u001b[39m\u001b[39m\"\u001b[39m:\n",
      "File \u001b[0;32m/usr/local/lib/python3.10/dist-packages/sapien/utils/viewer.py:2363\u001b[0m, in \u001b[0;36mViewer.render\u001b[0;34m(self)\u001b[0m\n\u001b[1;32m   2354\u001b[0m view \u001b[39m=\u001b[39m (\n\u001b[1;32m   2355\u001b[0m     Pose(\n\u001b[1;32m   2356\u001b[0m         \u001b[39mself\u001b[39m\u001b[39m.\u001b[39mwindow\u001b[39m.\u001b[39mget_camera_position(), \u001b[39mself\u001b[39m\u001b[39m.\u001b[39mwindow\u001b[39m.\u001b[39mget_camera_rotation()\n\u001b[0;32m   (...)\u001b[0m\n\u001b[1;32m   2359\u001b[0m     \u001b[39m.\u001b[39mto_transformation_matrix()\n\u001b[1;32m   2360\u001b[0m )\n\u001b[1;32m   2361\u001b[0m \u001b[39mself\u001b[39m\u001b[39m.\u001b[39mgizmo\u001b[39m.\u001b[39mCameraMatrices(view, proj)\n\u001b[0;32m-> 2363\u001b[0m \u001b[39mself\u001b[39;49m\u001b[39m.\u001b[39;49mwindow\u001b[39m.\u001b[39;49mrender(\n\u001b[1;32m   2364\u001b[0m     \u001b[39mself\u001b[39;49m\u001b[39m.\u001b[39;49mtarget_name,\n\u001b[1;32m   2365\u001b[0m     [\n\u001b[1;32m   2366\u001b[0m         \u001b[39mself\u001b[39;49m\u001b[39m.\u001b[39;49mcontrol_window,\n\u001b[1;32m   2367\u001b[0m         \u001b[39mself\u001b[39;49m\u001b[39m.\u001b[39;49mscene_window,\n\u001b[1;32m   2368\u001b[0m         \u001b[39mself\u001b[39;49m\u001b[39m.\u001b[39;49mactor_window,\n\u001b[1;32m   2369\u001b[0m         \u001b[39mself\u001b[39;49m\u001b[39m.\u001b[39;49marticulation_window,\n\u001b[1;32m   2370\u001b[0m         \u001b[39mself\u001b[39;49m\u001b[39m.\u001b[39;49minfo_window,\n\u001b[1;32m   2371\u001b[0m         \u001b[39mself\u001b[39;49m\u001b[39m.\u001b[39;49mik_window,\n\u001b[1;32m   2372\u001b[0m     ],\n\u001b[1;32m   2373\u001b[0m )\n\u001b[1;32m   2375\u001b[0m \u001b[39mif\u001b[39;00m \u001b[39mself\u001b[39m\u001b[39m.\u001b[39mmode \u001b[39m==\u001b[39m \u001b[39m\"\u001b[39m\u001b[39mgrab\u001b[39m\u001b[39m\"\u001b[39m:\n\u001b[1;32m   2376\u001b[0m     \u001b[39mif\u001b[39;00m \u001b[39mself\u001b[39m\u001b[39m.\u001b[39mwindow\u001b[39m.\u001b[39mmouse_click(\u001b[39m0\u001b[39m) \u001b[39mor\u001b[39;00m \u001b[39mself\u001b[39m\u001b[39m.\u001b[39mimmediate_mode:\n",
      "\u001b[0;31mKeyboardInterrupt\u001b[0m: "
     ]
    }
   ],
   "source": [
    "\n",
    "while True:\n",
    "    env.render(\"human\")"
   ]
  }
 ],
 "metadata": {
  "kernelspec": {
   "display_name": "Python 3",
   "language": "python",
   "name": "python3"
  },
  "language_info": {
   "codemirror_mode": {
    "name": "ipython",
    "version": 3
   },
   "file_extension": ".py",
   "mimetype": "text/x-python",
   "name": "python",
   "nbconvert_exporter": "python",
   "pygments_lexer": "ipython3",
   "version": "3.10.6"
  },
  "orig_nbformat": 4
 },
 "nbformat": 4,
 "nbformat_minor": 2
}
