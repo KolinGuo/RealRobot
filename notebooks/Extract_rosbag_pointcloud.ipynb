{
 "cells": [
  {
   "cell_type": "code",
   "execution_count": 1,
   "metadata": {},
   "outputs": [],
   "source": [
    "from pathlib import Path\n",
    "rosbag_path = Path(\"/rl_benchmark/real_robot/rosbag_recordings/20230509_225443_greenbox_default.bag\")\n",
    "\n",
    "import rosbag\n",
    "bag = rosbag.Bag(rosbag_path)"
   ]
  },
  {
   "cell_type": "code",
   "execution_count": 2,
   "metadata": {},
   "outputs": [
    {
     "ename": "RuntimeError",
     "evalue": "Couldn't resolve requests",
     "output_type": "error",
     "traceback": [
      "\u001b[0;31m---------------------------------------------------------------------------\u001b[0m",
      "\u001b[0;31mRuntimeError\u001b[0m                              Traceback (most recent call last)",
      "Cell \u001b[0;32mIn[2], line 24\u001b[0m\n\u001b[1;32m     21\u001b[0m config\u001b[39m.\u001b[39menable_stream(rs\u001b[39m.\u001b[39mstream\u001b[39m.\u001b[39mcolor, rs\u001b[39m.\u001b[39mformat\u001b[39m.\u001b[39mbgr8, \u001b[39m30\u001b[39m)\n\u001b[1;32m     23\u001b[0m \u001b[39m# Start streaming from file\u001b[39;00m\n\u001b[0;32m---> 24\u001b[0m pipeline\u001b[39m.\u001b[39;49mstart(config)\n\u001b[1;32m     26\u001b[0m \u001b[39m# Get frameset of depth\u001b[39;00m\n\u001b[1;32m     27\u001b[0m frames \u001b[39m=\u001b[39m pipeline\u001b[39m.\u001b[39mwait_for_frames()\n",
      "\u001b[0;31mRuntimeError\u001b[0m: Couldn't resolve requests"
     ]
    }
   ],
   "source": [
    "import pyrealsense2 as rs\n",
    "# Import Numpy for easy array manipulation\n",
    "import numpy as np\n",
    "# Import OpenCV for easy image rendering\n",
    "import cv2\n",
    "\n",
    "# Create pipeline\n",
    "pipeline = rs.pipeline()\n",
    "\n",
    "# Create a config object\n",
    "config = rs.config()\n",
    "\n",
    "# Tell config that we will use a recorded device from file to be used by the pipeline through playback.\n",
    "rs.config.enable_device_from_file(config, str(rosbag_path))\n",
    "\n",
    "\n",
    "# Configure the pipeline to stream the depth stream\n",
    "# Change this parameters according to the recorded bag file resolution\n",
    "config.enable_stream(rs.stream.depth, rs.format.z16, 30)\n",
    "\n",
    "#config.enable_stream(rs.stream.color, rs.format.bgr8, 30)\n",
    "\n",
    "# Start streaming from file\n",
    "pipeline.start(config)\n",
    "\n",
    "# Get frameset of depth\n",
    "frames = pipeline.wait_for_frames()\n",
    "\n",
    "# Get depth frame\n",
    "depth_frame = frames.get_depth_frame()\n",
    "color_frame = frames.get_color_frame()\n",
    "\n",
    "depth_frame.shape, color_frame.shape"
   ]
  },
  {
   "cell_type": "code",
   "execution_count": null,
   "metadata": {},
   "outputs": [],
   "source": []
  },
  {
   "cell_type": "code",
   "execution_count": 3,
   "metadata": {},
   "outputs": [
    {
     "data": {
      "text/plain": [
       "TypesAndTopicsTuple(msg_types={'diagnostic_msgs/KeyValue': 'cf57fdc6617a881a88c16e768132149c', 'geometry_msgs/Transform': 'ac9eff44abf714214112b05d54a3cf9b', 'realsense_msgs/StreamInfo': '311d7e24eac31bb87271d041bf70ff7d', 'sensor_msgs/CameraInfo': 'c9a58c1b0b154e0e6da7578cb991d214', 'sensor_msgs/Image': '060021388200f6f0f447d0fcd9c64743', 'std_msgs/Float32': '73fcbf46b49191e672908e50842a83d4', 'std_msgs/String': '992ce8a1687cec8c8bd883ec73ca41d1', 'std_msgs/UInt32': '304a39449588c7f8ce2df6e8001c5fce'}, topics={'/device_0/info': TopicTuple(msg_type='diagnostic_msgs/KeyValue', message_count=13, connections=1, frequency=None), '/device_0/sensor_0/Depth_0/image/data': TopicTuple(msg_type='sensor_msgs/Image', message_count=1784, connections=1, frequency=29.979018883844667), '/device_0/sensor_0/Depth_0/image/metadata': TopicTuple(msg_type='diagnostic_msgs/KeyValue', message_count=42816, connections=1, frequency=None), '/device_0/sensor_0/Depth_0/info': TopicTuple(msg_type='realsense_msgs/StreamInfo', message_count=1, connections=1, frequency=None), '/device_0/sensor_0/Depth_0/info/camera_info': TopicTuple(msg_type='sensor_msgs/CameraInfo', message_count=1, connections=1, frequency=None), '/device_0/sensor_0/Depth_0/tf/0': TopicTuple(msg_type='geometry_msgs/Transform', message_count=1, connections=1, frequency=None), '/device_0/sensor_0/info': TopicTuple(msg_type='diagnostic_msgs/KeyValue', message_count=2, connections=1, frequency=None), '/device_0/sensor_0/option/Asic_Temperature/description': TopicTuple(msg_type='std_msgs/String', message_count=1, connections=1, frequency=None), '/device_0/sensor_0/option/Asic_Temperature/value': TopicTuple(msg_type='std_msgs/Float32', message_count=1, connections=1, frequency=None), '/device_0/sensor_0/option/Depth_Units/description': TopicTuple(msg_type='std_msgs/String', message_count=1, connections=1, frequency=None), '/device_0/sensor_0/option/Depth_Units/value': TopicTuple(msg_type='std_msgs/Float32', message_count=1, connections=1, frequency=None), '/device_0/sensor_0/option/Emitter_Always_On/description': TopicTuple(msg_type='std_msgs/String', message_count=1, connections=1, frequency=None), '/device_0/sensor_0/option/Emitter_Always_On/value': TopicTuple(msg_type='std_msgs/Float32', message_count=1, connections=1, frequency=None), '/device_0/sensor_0/option/Emitter_Enabled/description': TopicTuple(msg_type='std_msgs/String', message_count=1, connections=1, frequency=None), '/device_0/sensor_0/option/Emitter_Enabled/value': TopicTuple(msg_type='std_msgs/Float32', message_count=1, connections=1, frequency=None), '/device_0/sensor_0/option/Emitter_On_Off/description': TopicTuple(msg_type='std_msgs/String', message_count=1, connections=1, frequency=None), '/device_0/sensor_0/option/Emitter_On_Off/value': TopicTuple(msg_type='std_msgs/Float32', message_count=1, connections=1, frequency=None), '/device_0/sensor_0/option/Enable_Auto_Exposure/description': TopicTuple(msg_type='std_msgs/String', message_count=1, connections=1, frequency=None), '/device_0/sensor_0/option/Enable_Auto_Exposure/value': TopicTuple(msg_type='std_msgs/Float32', message_count=1, connections=1, frequency=None), '/device_0/sensor_0/option/Error_Polling_Enabled/description': TopicTuple(msg_type='std_msgs/String', message_count=1, connections=1, frequency=None), '/device_0/sensor_0/option/Error_Polling_Enabled/value': TopicTuple(msg_type='std_msgs/Float32', message_count=1, connections=1, frequency=None), '/device_0/sensor_0/option/Exposure/description': TopicTuple(msg_type='std_msgs/String', message_count=1, connections=1, frequency=None), '/device_0/sensor_0/option/Exposure/value': TopicTuple(msg_type='std_msgs/Float32', message_count=1, connections=1, frequency=None), '/device_0/sensor_0/option/Frames_Queue_Size/description': TopicTuple(msg_type='std_msgs/String', message_count=1, connections=1, frequency=None), '/device_0/sensor_0/option/Frames_Queue_Size/value': TopicTuple(msg_type='std_msgs/Float32', message_count=1, connections=1, frequency=None), '/device_0/sensor_0/option/Gain/description': TopicTuple(msg_type='std_msgs/String', message_count=1, connections=1, frequency=None), '/device_0/sensor_0/option/Gain/value': TopicTuple(msg_type='std_msgs/Float32', message_count=1, connections=1, frequency=None), '/device_0/sensor_0/option/Global_Time_Enabled/description': TopicTuple(msg_type='std_msgs/String', message_count=1, connections=1, frequency=None), '/device_0/sensor_0/option/Global_Time_Enabled/value': TopicTuple(msg_type='std_msgs/Float32', message_count=1, connections=1, frequency=None), '/device_0/sensor_0/option/Hdr_Enabled/description': TopicTuple(msg_type='std_msgs/String', message_count=1, connections=1, frequency=None), '/device_0/sensor_0/option/Hdr_Enabled/value': TopicTuple(msg_type='std_msgs/Float32', message_count=1, connections=1, frequency=None), '/device_0/sensor_0/option/Laser_Power/description': TopicTuple(msg_type='std_msgs/String', message_count=1, connections=1, frequency=None), '/device_0/sensor_0/option/Laser_Power/value': TopicTuple(msg_type='std_msgs/Float32', message_count=1, connections=1, frequency=None), '/device_0/sensor_0/option/Output_Trigger_Enabled/description': TopicTuple(msg_type='std_msgs/String', message_count=1, connections=1, frequency=None), '/device_0/sensor_0/option/Output_Trigger_Enabled/value': TopicTuple(msg_type='std_msgs/Float32', message_count=1, connections=1, frequency=None), '/device_0/sensor_0/option/Projector_Temperature/description': TopicTuple(msg_type='std_msgs/String', message_count=1, connections=1, frequency=None), '/device_0/sensor_0/option/Projector_Temperature/value': TopicTuple(msg_type='std_msgs/Float32', message_count=1, connections=1, frequency=None), '/device_0/sensor_0/option/Sequence_Id/description': TopicTuple(msg_type='std_msgs/String', message_count=1, connections=1, frequency=None), '/device_0/sensor_0/option/Sequence_Id/value': TopicTuple(msg_type='std_msgs/Float32', message_count=1, connections=1, frequency=None), '/device_0/sensor_0/option/Sequence_Name/description': TopicTuple(msg_type='std_msgs/String', message_count=1, connections=1, frequency=None), '/device_0/sensor_0/option/Sequence_Name/value': TopicTuple(msg_type='std_msgs/Float32', message_count=1, connections=1, frequency=None), '/device_0/sensor_0/option/Sequence_Size/description': TopicTuple(msg_type='std_msgs/String', message_count=1, connections=1, frequency=None), '/device_0/sensor_0/option/Sequence_Size/value': TopicTuple(msg_type='std_msgs/Float32', message_count=1, connections=1, frequency=None), '/device_0/sensor_0/option/Stereo_Baseline/description': TopicTuple(msg_type='std_msgs/String', message_count=1, connections=1, frequency=None), '/device_0/sensor_0/option/Stereo_Baseline/value': TopicTuple(msg_type='std_msgs/Float32', message_count=1, connections=1, frequency=None), '/device_0/sensor_0/option/Visual_Preset/description': TopicTuple(msg_type='std_msgs/String', message_count=1, connections=1, frequency=None), '/device_0/sensor_0/option/Visual_Preset/value': TopicTuple(msg_type='std_msgs/Float32', message_count=1, connections=1, frequency=None), '/device_0/sensor_0/post_processing': TopicTuple(msg_type='std_msgs/String', message_count=10, connections=1, frequency=None), '/device_0/sensor_1/Color_0/image/data': TopicTuple(msg_type='sensor_msgs/Image', message_count=1784, connections=1, frequency=29.94290337469997), '/device_0/sensor_1/Color_0/image/metadata': TopicTuple(msg_type='diagnostic_msgs/KeyValue', message_count=41032, connections=1, frequency=None), '/device_0/sensor_1/Color_0/info': TopicTuple(msg_type='realsense_msgs/StreamInfo', message_count=1, connections=1, frequency=None), '/device_0/sensor_1/Color_0/info/camera_info': TopicTuple(msg_type='sensor_msgs/CameraInfo', message_count=1, connections=1, frequency=None), '/device_0/sensor_1/Color_0/tf/0': TopicTuple(msg_type='geometry_msgs/Transform', message_count=1, connections=1, frequency=None), '/device_0/sensor_1/info': TopicTuple(msg_type='diagnostic_msgs/KeyValue', message_count=2, connections=1, frequency=None), '/device_0/sensor_1/option/Auto_Exposure_Priority/description': TopicTuple(msg_type='std_msgs/String', message_count=1, connections=1, frequency=None), '/device_0/sensor_1/option/Auto_Exposure_Priority/value': TopicTuple(msg_type='std_msgs/Float32', message_count=1, connections=1, frequency=None), '/device_0/sensor_1/option/Backlight_Compensation/description': TopicTuple(msg_type='std_msgs/String', message_count=1, connections=1, frequency=None), '/device_0/sensor_1/option/Backlight_Compensation/value': TopicTuple(msg_type='std_msgs/Float32', message_count=1, connections=1, frequency=None), '/device_0/sensor_1/option/Brightness/description': TopicTuple(msg_type='std_msgs/String', message_count=1, connections=1, frequency=None), '/device_0/sensor_1/option/Brightness/value': TopicTuple(msg_type='std_msgs/Float32', message_count=1, connections=1, frequency=None), '/device_0/sensor_1/option/Contrast/description': TopicTuple(msg_type='std_msgs/String', message_count=1, connections=1, frequency=None), '/device_0/sensor_1/option/Contrast/value': TopicTuple(msg_type='std_msgs/Float32', message_count=1, connections=1, frequency=None), '/device_0/sensor_1/option/Enable_Auto_Exposure/description': TopicTuple(msg_type='std_msgs/String', message_count=1, connections=1, frequency=None), '/device_0/sensor_1/option/Enable_Auto_Exposure/value': TopicTuple(msg_type='std_msgs/Float32', message_count=1, connections=1, frequency=None), '/device_0/sensor_1/option/Enable_Auto_White_Balance/description': TopicTuple(msg_type='std_msgs/String', message_count=1, connections=1, frequency=None), '/device_0/sensor_1/option/Enable_Auto_White_Balance/value': TopicTuple(msg_type='std_msgs/Float32', message_count=1, connections=1, frequency=None), '/device_0/sensor_1/option/Exposure/description': TopicTuple(msg_type='std_msgs/String', message_count=1, connections=1, frequency=None), '/device_0/sensor_1/option/Exposure/value': TopicTuple(msg_type='std_msgs/Float32', message_count=1, connections=1, frequency=None), '/device_0/sensor_1/option/Frames_Queue_Size/description': TopicTuple(msg_type='std_msgs/String', message_count=1, connections=1, frequency=None), '/device_0/sensor_1/option/Frames_Queue_Size/value': TopicTuple(msg_type='std_msgs/Float32', message_count=1, connections=1, frequency=None), '/device_0/sensor_1/option/Gain/description': TopicTuple(msg_type='std_msgs/String', message_count=1, connections=1, frequency=None), '/device_0/sensor_1/option/Gain/value': TopicTuple(msg_type='std_msgs/Float32', message_count=1, connections=1, frequency=None), '/device_0/sensor_1/option/Gamma/description': TopicTuple(msg_type='std_msgs/String', message_count=1, connections=1, frequency=None), '/device_0/sensor_1/option/Gamma/value': TopicTuple(msg_type='std_msgs/Float32', message_count=1, connections=1, frequency=None), '/device_0/sensor_1/option/Global_Time_Enabled/description': TopicTuple(msg_type='std_msgs/String', message_count=1, connections=1, frequency=None), '/device_0/sensor_1/option/Global_Time_Enabled/value': TopicTuple(msg_type='std_msgs/Float32', message_count=1, connections=1, frequency=None), '/device_0/sensor_1/option/Hue/description': TopicTuple(msg_type='std_msgs/String', message_count=1, connections=1, frequency=None), '/device_0/sensor_1/option/Hue/value': TopicTuple(msg_type='std_msgs/Float32', message_count=1, connections=1, frequency=None), '/device_0/sensor_1/option/Power_Line_Frequency/description': TopicTuple(msg_type='std_msgs/String', message_count=1, connections=1, frequency=None), '/device_0/sensor_1/option/Power_Line_Frequency/value': TopicTuple(msg_type='std_msgs/Float32', message_count=1, connections=1, frequency=None), '/device_0/sensor_1/option/Saturation/description': TopicTuple(msg_type='std_msgs/String', message_count=1, connections=1, frequency=None), '/device_0/sensor_1/option/Saturation/value': TopicTuple(msg_type='std_msgs/Float32', message_count=1, connections=1, frequency=None), '/device_0/sensor_1/option/Sharpness/description': TopicTuple(msg_type='std_msgs/String', message_count=1, connections=1, frequency=None), '/device_0/sensor_1/option/Sharpness/value': TopicTuple(msg_type='std_msgs/Float32', message_count=1, connections=1, frequency=None), '/device_0/sensor_1/option/White_Balance/description': TopicTuple(msg_type='std_msgs/String', message_count=1, connections=1, frequency=None), '/device_0/sensor_1/option/White_Balance/value': TopicTuple(msg_type='std_msgs/Float32', message_count=1, connections=1, frequency=None), '/device_0/sensor_1/post_processing': TopicTuple(msg_type='std_msgs/String', message_count=1, connections=1, frequency=None), '/file_version': TopicTuple(msg_type='std_msgs/UInt32', message_count=1, connections=1, frequency=None)})"
      ]
     },
     "execution_count": 3,
     "metadata": {},
     "output_type": "execute_result"
    }
   ],
   "source": [
    "bag.get_type_and_topic_info()"
   ]
  },
  {
   "cell_type": "code",
   "execution_count": 6,
   "metadata": {},
   "outputs": [
    {
     "name": "stdout",
     "output_type": "stream",
     "text": [
      "[INFO]  Successfully created the data folder /rl_benchmark/real_robot/rosbag_recordings/20230509_225443_greenbox_default.\n"
     ]
    },
    {
     "data": {
      "text/html": [
       "<div>\n",
       "<style scoped>\n",
       "    .dataframe tbody tr th:only-of-type {\n",
       "        vertical-align: middle;\n",
       "    }\n",
       "\n",
       "    .dataframe tbody tr th {\n",
       "        vertical-align: top;\n",
       "    }\n",
       "\n",
       "    .dataframe thead th {\n",
       "        text-align: right;\n",
       "    }\n",
       "</style>\n",
       "<table border=\"1\" class=\"dataframe\">\n",
       "  <thead>\n",
       "    <tr style=\"text-align: right;\">\n",
       "      <th></th>\n",
       "      <th>Topics</th>\n",
       "      <th>Types</th>\n",
       "      <th>Message Count</th>\n",
       "      <th>Frequency</th>\n",
       "    </tr>\n",
       "  </thead>\n",
       "  <tbody>\n",
       "    <tr>\n",
       "      <th>0</th>\n",
       "      <td>/device_0/info</td>\n",
       "      <td>diagnostic_msgs/KeyValue</td>\n",
       "      <td>13</td>\n",
       "      <td>NaN</td>\n",
       "    </tr>\n",
       "    <tr>\n",
       "      <th>1</th>\n",
       "      <td>/device_0/sensor_0/Depth_0/image/data</td>\n",
       "      <td>sensor_msgs/Image</td>\n",
       "      <td>1784</td>\n",
       "      <td>29.979019</td>\n",
       "    </tr>\n",
       "    <tr>\n",
       "      <th>2</th>\n",
       "      <td>/device_0/sensor_0/Depth_0/image/metadata</td>\n",
       "      <td>diagnostic_msgs/KeyValue</td>\n",
       "      <td>42816</td>\n",
       "      <td>NaN</td>\n",
       "    </tr>\n",
       "    <tr>\n",
       "      <th>3</th>\n",
       "      <td>/device_0/sensor_0/Depth_0/info</td>\n",
       "      <td>realsense_msgs/StreamInfo</td>\n",
       "      <td>1</td>\n",
       "      <td>NaN</td>\n",
       "    </tr>\n",
       "    <tr>\n",
       "      <th>4</th>\n",
       "      <td>/device_0/sensor_0/Depth_0/info/camera_info</td>\n",
       "      <td>sensor_msgs/CameraInfo</td>\n",
       "      <td>1</td>\n",
       "      <td>NaN</td>\n",
       "    </tr>\n",
       "    <tr>\n",
       "      <th>...</th>\n",
       "      <td>...</td>\n",
       "      <td>...</td>\n",
       "      <td>...</td>\n",
       "      <td>...</td>\n",
       "    </tr>\n",
       "    <tr>\n",
       "      <th>83</th>\n",
       "      <td>/device_0/sensor_1/option/Sharpness/value</td>\n",
       "      <td>std_msgs/Float32</td>\n",
       "      <td>1</td>\n",
       "      <td>NaN</td>\n",
       "    </tr>\n",
       "    <tr>\n",
       "      <th>84</th>\n",
       "      <td>/device_0/sensor_1/option/White_Balance/descri...</td>\n",
       "      <td>std_msgs/String</td>\n",
       "      <td>1</td>\n",
       "      <td>NaN</td>\n",
       "    </tr>\n",
       "    <tr>\n",
       "      <th>85</th>\n",
       "      <td>/device_0/sensor_1/option/White_Balance/value</td>\n",
       "      <td>std_msgs/Float32</td>\n",
       "      <td>1</td>\n",
       "      <td>NaN</td>\n",
       "    </tr>\n",
       "    <tr>\n",
       "      <th>86</th>\n",
       "      <td>/device_0/sensor_1/post_processing</td>\n",
       "      <td>std_msgs/String</td>\n",
       "      <td>1</td>\n",
       "      <td>NaN</td>\n",
       "    </tr>\n",
       "    <tr>\n",
       "      <th>87</th>\n",
       "      <td>/file_version</td>\n",
       "      <td>std_msgs/UInt32</td>\n",
       "      <td>1</td>\n",
       "      <td>NaN</td>\n",
       "    </tr>\n",
       "  </tbody>\n",
       "</table>\n",
       "<p>88 rows × 4 columns</p>\n",
       "</div>"
      ],
      "text/plain": [
       "                                               Topics   \n",
       "0                                      /device_0/info  \\\n",
       "1               /device_0/sensor_0/Depth_0/image/data   \n",
       "2           /device_0/sensor_0/Depth_0/image/metadata   \n",
       "3                     /device_0/sensor_0/Depth_0/info   \n",
       "4         /device_0/sensor_0/Depth_0/info/camera_info   \n",
       "..                                                ...   \n",
       "83          /device_0/sensor_1/option/Sharpness/value   \n",
       "84  /device_0/sensor_1/option/White_Balance/descri...   \n",
       "85      /device_0/sensor_1/option/White_Balance/value   \n",
       "86                 /device_0/sensor_1/post_processing   \n",
       "87                                      /file_version   \n",
       "\n",
       "                        Types  Message Count  Frequency  \n",
       "0    diagnostic_msgs/KeyValue             13        NaN  \n",
       "1           sensor_msgs/Image           1784  29.979019  \n",
       "2    diagnostic_msgs/KeyValue          42816        NaN  \n",
       "3   realsense_msgs/StreamInfo              1        NaN  \n",
       "4      sensor_msgs/CameraInfo              1        NaN  \n",
       "..                        ...            ...        ...  \n",
       "83           std_msgs/Float32              1        NaN  \n",
       "84            std_msgs/String              1        NaN  \n",
       "85           std_msgs/Float32              1        NaN  \n",
       "86            std_msgs/String              1        NaN  \n",
       "87            std_msgs/UInt32              1        NaN  \n",
       "\n",
       "[88 rows x 4 columns]"
      ]
     },
     "execution_count": 6,
     "metadata": {},
     "output_type": "execute_result"
    }
   ],
   "source": [
    "from bagpy import bagreader\n",
    "bag = bagreader(str(rosbag_path))\n",
    "bag.topic_table"
   ]
  },
  {
   "cell_type": "code",
   "execution_count": null,
   "metadata": {},
   "outputs": [],
   "source": [
    "[\"/device_0/sensor_0/Depth_0/info/camera_info\"\n",
    " \"/device_0/sensor_1/Color_0/info/camera_info\"]"
   ]
  },
  {
   "cell_type": "code",
   "execution_count": null,
   "metadata": {},
   "outputs": [],
   "source": []
  },
  {
   "cell_type": "code",
   "execution_count": 19,
   "metadata": {},
   "outputs": [
    {
     "data": {
      "text/html": [
       "<div>\n",
       "<style scoped>\n",
       "    .dataframe tbody tr th:only-of-type {\n",
       "        vertical-align: middle;\n",
       "    }\n",
       "\n",
       "    .dataframe tbody tr th {\n",
       "        vertical-align: top;\n",
       "    }\n",
       "\n",
       "    .dataframe thead th {\n",
       "        text-align: right;\n",
       "    }\n",
       "</style>\n",
       "<table border=\"1\" class=\"dataframe\">\n",
       "  <thead>\n",
       "    <tr style=\"text-align: right;\">\n",
       "      <th></th>\n",
       "      <th>Topics</th>\n",
       "      <th>Types</th>\n",
       "      <th>Message Count</th>\n",
       "      <th>Frequency</th>\n",
       "    </tr>\n",
       "  </thead>\n",
       "  <tbody>\n",
       "    <tr>\n",
       "      <th>4</th>\n",
       "      <td>/device_0/sensor_0/Depth_0/info/camera_info</td>\n",
       "      <td>sensor_msgs/CameraInfo</td>\n",
       "      <td>1</td>\n",
       "      <td>NaN</td>\n",
       "    </tr>\n",
       "    <tr>\n",
       "      <th>51</th>\n",
       "      <td>/device_0/sensor_1/Color_0/info/camera_info</td>\n",
       "      <td>sensor_msgs/CameraInfo</td>\n",
       "      <td>1</td>\n",
       "      <td>NaN</td>\n",
       "    </tr>\n",
       "  </tbody>\n",
       "</table>\n",
       "</div>"
      ],
      "text/plain": [
       "                                         Topics                   Types   \n",
       "4   /device_0/sensor_0/Depth_0/info/camera_info  sensor_msgs/CameraInfo  \\\n",
       "51  /device_0/sensor_1/Color_0/info/camera_info  sensor_msgs/CameraInfo   \n",
       "\n",
       "    Message Count  Frequency  \n",
       "4               1        NaN  \n",
       "51              1        NaN  "
      ]
     },
     "execution_count": 19,
     "metadata": {},
     "output_type": "execute_result"
    }
   ],
   "source": [
    "bag.topic_table[bag.topic_table[\"Types\"] == \"sensor_msgs/CameraInfo\"]"
   ]
  },
  {
   "cell_type": "code",
   "execution_count": 7,
   "metadata": {},
   "outputs": [
    {
     "data": {
      "text/plain": [
       "['__class__',\n",
       " '__delattr__',\n",
       " '__dict__',\n",
       " '__dir__',\n",
       " '__doc__',\n",
       " '__eq__',\n",
       " '__format__',\n",
       " '__ge__',\n",
       " '__getattribute__',\n",
       " '__gt__',\n",
       " '__hash__',\n",
       " '__init__',\n",
       " '__init_subclass__',\n",
       " '__le__',\n",
       " '__lt__',\n",
       " '__module__',\n",
       " '__ne__',\n",
       " '__new__',\n",
       " '__reduce__',\n",
       " '__reduce_ex__',\n",
       " '__repr__',\n",
       " '__setattr__',\n",
       " '__sizeof__',\n",
       " '__str__',\n",
       " '__subclasshook__',\n",
       " '__weakref__',\n",
       " 'animate_laser',\n",
       " 'animate_pointcloud',\n",
       " 'bagfile',\n",
       " 'clock_data',\n",
       " 'compressed_images',\n",
       " 'datafolder',\n",
       " 'delimiter',\n",
       " 'dir',\n",
       " 'end_time',\n",
       " 'filename',\n",
       " 'frequency',\n",
       " 'laser_data',\n",
       " 'message_by_topic',\n",
       " 'message_types',\n",
       " 'n_messages',\n",
       " 'odometry_data',\n",
       " 'plot_odometry',\n",
       " 'plot_std',\n",
       " 'plot_vel',\n",
       " 'plot_wrench',\n",
       " 'pointcloud_data',\n",
       " 'reader',\n",
       " 'start_time',\n",
       " 'std_data',\n",
       " 'topic_table',\n",
       " 'topic_tuple',\n",
       " 'topics',\n",
       " 'vel_data',\n",
       " 'verbose',\n",
       " 'wrench_data']"
      ]
     },
     "execution_count": 7,
     "metadata": {},
     "output_type": "execute_result"
    }
   ],
   "source": [
    "dir(bag)"
   ]
  }
 ],
 "metadata": {
  "kernelspec": {
   "display_name": "Python 3",
   "language": "python",
   "name": "python3"
  },
  "language_info": {
   "codemirror_mode": {
    "name": "ipython",
    "version": 3
   },
   "file_extension": ".py",
   "mimetype": "text/x-python",
   "name": "python",
   "nbconvert_exporter": "python",
   "pygments_lexer": "ipython3",
   "version": "3.10.6"
  },
  "orig_nbformat": 4
 },
 "nbformat": 4,
 "nbformat_minor": 2
}
