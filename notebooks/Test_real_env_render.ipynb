{
 "cells": [
  {
   "cell_type": "code",
   "execution_count": 1,
   "metadata": {},
   "outputs": [
    {
     "name": "stdout",
     "output_type": "stream",
     "text": [
      "SDK_VERSION: 1.11.6\n"
     ]
    },
    {
     "name": "stderr",
     "output_type": "stream",
     "text": [
      "/usr/local/lib/python3.10/dist-packages/torch/functional.py:504: UserWarning: torch.meshgrid: in an upcoming release, it will be required to pass the indexing argument. (Triggered internally at ../aten/src/ATen/native/TensorShape.cpp:3190.)\n",
      "  return _VF.meshgrid(tensors, **kwargs)  # type: ignore[attr-defined]\n"
     ]
    },
    {
     "name": "stdout",
     "output_type": "stream",
     "text": [
      "final text_encoder_type: bert-base-uncased\n"
     ]
    },
    {
     "name": "stderr",
     "output_type": "stream",
     "text": [
      "Some weights of the model checkpoint at bert-base-uncased were not used when initializing BertModel: ['cls.seq_relationship.bias', 'cls.predictions.transform.LayerNorm.weight', 'cls.predictions.transform.dense.weight', 'cls.seq_relationship.weight', 'cls.predictions.bias', 'cls.predictions.transform.dense.bias', 'cls.predictions.transform.LayerNorm.bias']\n",
      "- This IS expected if you are initializing BertModel from the checkpoint of a model trained on another task or with another architecture (e.g. initializing a BertForSequenceClassification model from a BertForPreTraining model).\n",
      "- This IS NOT expected if you are initializing BertModel from the checkpoint of a model that you expect to be exactly identical (initializing a BertForSequenceClassification model from a BertForSequenceClassification model).\n"
     ]
    },
    {
     "name": "stdout",
     "output_type": "stream",
     "text": [
      "_IncompatibleKeys(missing_keys=[], unexpected_keys=['label_enc.weight'])\n",
      "\n",
      "Loading GroundingDINO: Took 4.034 seconds\n"
     ]
    }
   ],
   "source": [
    "import real_robot.envs\n",
    "import gym\n",
    "\n",
    "env = gym.make(\"PlaceCubeInBowlRealXArm-v8\", control_mode=\"pd_ee_pose\",\n",
    "               obs_mode=\"rgbd\", reward_mode=\"grounded_sam_sparse_staged_v3\",\n",
    "               image_obs_mode=\"front\", robot_action_scale=100)\n",
    "env._max_episode_steps = 400\n",
    "obs = env.reset()"
   ]
  },
  {
   "cell_type": "code",
   "execution_count": 2,
   "metadata": {},
   "outputs": [
    {
     "data": {
      "text/plain": [
       "(True,\n",
       " OrderedDict([('sam_rgb_images', array([[[[ 11,  21,  24],\n",
       "                        [ 10,  20,  23],\n",
       "                        [ 11,  21,  26],\n",
       "                        ...,\n",
       "                        [ 28,  36,  33],\n",
       "                        [ 29,  36,  28],\n",
       "                        [ 27,  34,  26]],\n",
       "               \n",
       "                       [[ 10,  20,  34],\n",
       "                        [  8,  18,  32],\n",
       "                        [ 11,  22,  33],\n",
       "                        ...,\n",
       "                        [ 29,  39,  25],\n",
       "                        [ 27,  40,  23],\n",
       "                        [ 26,  39,  22]],\n",
       "               \n",
       "                       [[  7,  15,  41],\n",
       "                        [  4,  12,  38],\n",
       "                        [  2,  14,  30],\n",
       "                        ...,\n",
       "                        [ 22,  40,  17],\n",
       "                        [ 25,  47,  18],\n",
       "                        [ 22,  44,  15]],\n",
       "               \n",
       "                       ...,\n",
       "               \n",
       "                       [[ 76,  83,  87],\n",
       "                        [ 76,  83,  87],\n",
       "                        [ 69,  71,  79],\n",
       "                        ...,\n",
       "                        [106, 117, 126],\n",
       "                        [106, 119, 128],\n",
       "                        [105, 118, 127]],\n",
       "               \n",
       "                       [[ 72,  82,  85],\n",
       "                        [ 68,  78,  81],\n",
       "                        [ 63,  65,  73],\n",
       "                        ...,\n",
       "                        [107, 114, 120],\n",
       "                        [100, 116, 124],\n",
       "                        [100, 116, 124]],\n",
       "               \n",
       "                       [[ 66,  78,  80],\n",
       "                        [ 65,  77,  79],\n",
       "                        [ 62,  67,  72],\n",
       "                        ...,\n",
       "                        [104, 115, 115],\n",
       "                        [ 97, 115, 122],\n",
       "                        [ 92, 110, 117]]],\n",
       "               \n",
       "               \n",
       "                      [[[143, 157, 161],\n",
       "                        [132, 146, 150],\n",
       "                        [128, 132, 146],\n",
       "                        ...,\n",
       "                        [128, 101,  68],\n",
       "                        [127,  96,  55],\n",
       "                        [124,  93,  52]],\n",
       "               \n",
       "                       [[143, 157, 161],\n",
       "                        [129, 143, 147],\n",
       "                        [126, 132, 143],\n",
       "                        ...,\n",
       "                        [130, 103,  68],\n",
       "                        [126,  97,  56],\n",
       "                        [125,  96,  55]],\n",
       "               \n",
       "                       [[139, 156, 161],\n",
       "                        [127, 144, 149],\n",
       "                        [123, 130, 138],\n",
       "                        ...,\n",
       "                        [132, 102,  66],\n",
       "                        [128,  99,  58],\n",
       "                        [129, 100,  59]],\n",
       "               \n",
       "                       ...,\n",
       "               \n",
       "                       [[111, 128, 131],\n",
       "                        [110, 127, 130],\n",
       "                        [ 85, 104, 108],\n",
       "                        ...,\n",
       "                        [ 95,  85,  73],\n",
       "                        [ 96,  88,  76],\n",
       "                        [ 95,  87,  75]],\n",
       "               \n",
       "                       [[120, 142, 154],\n",
       "                        [ 98, 120, 132],\n",
       "                        [ 51,  69,  76],\n",
       "                        ...,\n",
       "                        [ 91,  81,  69],\n",
       "                        [ 93,  85,  73],\n",
       "                        [ 93,  85,  73]],\n",
       "               \n",
       "                       [[ 94, 117, 136],\n",
       "                        [ 56,  79,  98],\n",
       "                        [ 50,  65,  78],\n",
       "                        ...,\n",
       "                        [ 84,  77,  60],\n",
       "                        [ 89,  81,  67],\n",
       "                        [ 90,  82,  68]]]], dtype=uint8)),\n",
       "              ('sam_xyz_images',\n",
       "               array([[[[-6.20667367e-01,  4.32114099e-01,  6.60005902e-01],\n",
       "                        [-6.18389349e-01,  4.31997504e-01,  6.59976569e-01],\n",
       "                        [-6.16111332e-01,  4.31880909e-01,  6.59947236e-01],\n",
       "                        ...,\n",
       "                        [ 3.50735235e+00,  3.33622664e+00,  1.22774335e+00],\n",
       "                        [ 3.51451682e+00,  3.33585994e+00,  1.22765109e+00],\n",
       "                        [ 3.48107828e+00,  3.28040830e+00,  1.21668917e+00]],\n",
       "               \n",
       "                       [[-6.20717746e-01,  4.31693795e-01,  6.57764089e-01],\n",
       "                        [-6.18439729e-01,  4.31577200e-01,  6.57734756e-01],\n",
       "                        [-6.16161711e-01,  4.31460605e-01,  6.57705423e-01],\n",
       "                        ...,\n",
       "                        [ 3.50719391e+00,  3.33490476e+00,  1.22069275e+00],\n",
       "                        [ 3.51435837e+00,  3.33453807e+00,  1.22060049e+00],\n",
       "                        [ 3.50122232e+00,  3.30663717e+00,  1.21511752e+00]],\n",
       "               \n",
       "                       [[-6.18804637e-01,  4.27999088e-01,  6.54873877e-01],\n",
       "                        [-6.18490108e-01,  4.31156897e-01,  6.55492943e-01],\n",
       "                        [-6.16212091e-01,  4.31040302e-01,  6.55463610e-01],\n",
       "                        ...,\n",
       "                        [ 3.52724532e+00,  3.36111341e+00,  1.21898990e+00],\n",
       "                        [ 3.51419993e+00,  3.33321619e+00,  1.21354989e+00],\n",
       "                        [ 3.50106487e+00,  3.30532357e+00,  1.20811104e+00]],\n",
       "               \n",
       "                       ...,\n",
       "               \n",
       "                       [[ 2.77194262e-01, -1.06621003e+00,  3.58990043e-01],\n",
       "                        [ 2.77194262e-01, -1.06621003e+00,  3.58990043e-01],\n",
       "                        [ 2.77194262e-01, -1.06621003e+00,  3.58990043e-01],\n",
       "                        ...,\n",
       "                        [ 1.41474376e+00,  2.93947795e-01, -5.40490752e-01],\n",
       "                        [ 1.41732728e+00,  2.93815564e-01, -5.40524019e-01],\n",
       "                        [ 1.41991081e+00,  2.93683332e-01, -5.40557286e-01]],\n",
       "               \n",
       "                       [[ 2.77194262e-01, -1.06621003e+00,  3.58990043e-01],\n",
       "                        [ 2.77194262e-01, -1.06621003e+00,  3.58990043e-01],\n",
       "                        [ 2.77194262e-01, -1.06621003e+00,  3.58990043e-01],\n",
       "                        ...,\n",
       "                        [ 1.41176252e+00,  2.89975845e-01, -5.40714420e-01],\n",
       "                        [ 1.41433940e+00,  2.89843953e-01, -5.40747602e-01],\n",
       "                        [ 1.41691628e+00,  2.89712062e-01, -5.40780783e-01]],\n",
       "               \n",
       "                       [[ 2.77194262e-01, -1.06621003e+00,  3.58990043e-01],\n",
       "                        [ 2.77194262e-01, -1.06621003e+00,  3.58990043e-01],\n",
       "                        [ 2.77194262e-01, -1.06621003e+00,  3.58990043e-01],\n",
       "                        ...,\n",
       "                        [ 1.40658847e+00,  2.83385649e-01, -5.39180914e-01],\n",
       "                        [ 1.40915373e+00,  2.83254352e-01, -5.39213946e-01],\n",
       "                        [ 1.41465632e+00,  2.86616533e-01, -5.41572550e-01]]],\n",
       "               \n",
       "               \n",
       "                      [[[ 1.05743604e+00, -1.58208579e-01, -5.46443328e-01],\n",
       "                        [ 1.05607929e+00, -1.58208581e-01, -5.46443335e-01],\n",
       "                        [ 1.05472254e+00, -1.58208582e-01, -5.46443343e-01],\n",
       "                        ...,\n",
       "                        [ 2.65993792e-01, -9.73489568e-02, -1.11448011e-03],\n",
       "                        [ 2.65481498e-01, -9.73489574e-02, -1.11448297e-03],\n",
       "                        [ 2.64969205e-01, -9.73489579e-02, -1.11448582e-03]],\n",
       "               \n",
       "                       [[ 1.05743604e+00, -1.56897588e-01, -5.46092051e-01],\n",
       "                        [ 1.05607929e+00, -1.56897590e-01, -5.46092059e-01],\n",
       "                        [ 1.05472254e+00, -1.56897591e-01, -5.46092066e-01],\n",
       "                        ...,\n",
       "                        [ 2.65993791e-01, -9.68539420e-02, -9.81842201e-04],\n",
       "                        [ 2.65481497e-01, -9.68539426e-02, -9.81845056e-04],\n",
       "                        [ 2.64969203e-01, -9.68539432e-02, -9.81847911e-04]],\n",
       "               \n",
       "                       [[ 1.05813774e+00, -1.55702510e-01, -5.46807153e-01],\n",
       "                        [ 1.05677934e+00, -1.55702511e-01, -5.46807161e-01],\n",
       "                        [ 1.05542093e+00, -1.55702513e-01, -5.46807168e-01],\n",
       "                        ...,\n",
       "                        [ 2.65299056e-01, -9.64748338e-02, -1.91552712e-03],\n",
       "                        [ 2.64785110e-01, -9.64748343e-02, -1.91552999e-03],\n",
       "                        [ 2.64271164e-01, -9.64748349e-02, -1.91553285e-03]],\n",
       "               \n",
       "                       ...,\n",
       "               \n",
       "                       [[ 4.81363893e-01, -6.04274571e-02,  3.29715133e-01],\n",
       "                        [ 4.81363893e-01, -6.04274571e-02,  3.29715133e-01],\n",
       "                        [ 4.81363893e-01, -6.04274571e-02,  3.29715133e-01],\n",
       "                        ...,\n",
       "                        [ 4.81363893e-01, -6.04274571e-02,  3.29715133e-01],\n",
       "                        [ 4.81363893e-01, -6.04274571e-02,  3.29715133e-01],\n",
       "                        [ 4.81363893e-01, -6.04274571e-02,  3.29715133e-01]],\n",
       "               \n",
       "                       [[ 4.81363893e-01, -6.04274571e-02,  3.29715133e-01],\n",
       "                        [ 4.81363893e-01, -6.04274571e-02,  3.29715133e-01],\n",
       "                        [ 4.81363893e-01, -6.04274571e-02,  3.29715133e-01],\n",
       "                        ...,\n",
       "                        [ 4.81363893e-01, -6.04274571e-02,  3.29715133e-01],\n",
       "                        [ 4.81363893e-01, -6.04274571e-02,  3.29715133e-01],\n",
       "                        [ 4.81363893e-01, -6.04274571e-02,  3.29715133e-01]],\n",
       "               \n",
       "                       [[ 4.81363893e-01, -6.04274571e-02,  3.29715133e-01],\n",
       "                        [ 4.81363893e-01, -6.04274571e-02,  3.29715133e-01],\n",
       "                        [ 4.81363893e-01, -6.04274571e-02,  3.29715133e-01],\n",
       "                        ...,\n",
       "                        [ 4.81363893e-01, -6.04274571e-02,  3.29715133e-01],\n",
       "                        [ 4.81363893e-01, -6.04274571e-02,  3.29715133e-01],\n",
       "                        [ 4.81363893e-01, -6.04274571e-02,  3.29715133e-01]]]])),\n",
       "              ('sam_xyz_masks', array([None, None], dtype=object)),\n",
       "              ('pred_masks',\n",
       "               array([[[0, 0, 0, ..., 0, 0, 0],\n",
       "                       [0, 0, 0, ..., 0, 0, 0],\n",
       "                       [0, 0, 0, ..., 0, 0, 0],\n",
       "                       ...,\n",
       "                       [0, 0, 0, ..., 0, 0, 0],\n",
       "                       [0, 0, 0, ..., 0, 0, 0],\n",
       "                       [0, 0, 0, ..., 0, 0, 0]],\n",
       "               \n",
       "                      [[0, 0, 0, ..., 0, 0, 0],\n",
       "                       [0, 0, 0, ..., 0, 0, 0],\n",
       "                       [0, 0, 0, ..., 0, 0, 0],\n",
       "                       ...,\n",
       "                       [0, 0, 0, ..., 2, 2, 2],\n",
       "                       [0, 0, 0, ..., 0, 0, 0],\n",
       "                       [0, 0, 0, ..., 0, 0, 0]]], dtype=uint8)),\n",
       "              ('pred_phrases',\n",
       "               [['green bowl(0.93)', 'red cube(0.53)', 'robot arm(0.50)'],\n",
       "                ['robot arm(0.45)',\n",
       "                 'green bowl(0.32)',\n",
       "                 'red cube(0.34)',\n",
       "                 'green bowl(0.31)']]),\n",
       "              ('boxes_filt',\n",
       "               [array([[265.2803  , 353.36496 , 358.25708 , 420.85773 ],\n",
       "                       [220.85892 , 401.56903 , 269.9495  , 457.24536 ],\n",
       "                       [199.81273 ,   0.732399, 534.8812  , 241.19415 ]], dtype=float32),\n",
       "                array([[145.38248, 275.73816, 391.69904, 477.6294 ],\n",
       "                       [259.16733, 348.91528, 847.5764 , 477.47546],\n",
       "                       [387.3092 , 283.44623, 711.2019 , 362.7425 ],\n",
       "                       [402.13666, 307.52325, 551.90857, 364.09094]], dtype=float32)]),\n",
       "              ('object_pcds',\n",
       "               {'red cube': array([[ 0.27719426, -1.06621003,  0.35899004],\n",
       "                       [ 0.27719426, -1.06621003,  0.35899004],\n",
       "                       [ 0.27719426, -1.06621003,  0.35899004],\n",
       "                       ...,\n",
       "                       [ 0.48136389, -0.06042746,  0.32971513],\n",
       "                       [ 0.48136389, -0.06042746,  0.32971513],\n",
       "                       [ 0.48136389, -0.06042746,  0.32971513]]),\n",
       "                'green bowl': array([[ 0.27719426, -1.06621003,  0.35899004],\n",
       "                       [ 0.27719426, -1.06621003,  0.35899004],\n",
       "                       [ 0.27719426, -1.06621003,  0.35899004],\n",
       "                       ...,\n",
       "                       [ 0.48136389, -0.06042746,  0.32971513],\n",
       "                       [ 0.48136389, -0.06042746,  0.32971513],\n",
       "                       [ 0.48136389, -0.06042746,  0.32971513]])}),\n",
       "              ('object_filt_pcds',\n",
       "               {'red cube': array([[ 0.53065829,  0.30744486, -0.43927518],\n",
       "                       [ 0.5239897 ,  0.30238928, -0.43182999],\n",
       "                       [ 0.52575761,  0.30488269, -0.43444027],\n",
       "                       ...,\n",
       "                       [ 0.49756488,  0.23778047, -0.42947167],\n",
       "                       [ 0.19599196,  0.24843579, -0.42920641],\n",
       "                       [ 0.21447353,  0.25271515, -0.42909493]]),\n",
       "                'green bowl': array([[ 0.15933154, -0.35740995,  0.00288679],\n",
       "                       [ 0.14928967, -0.35689598,  0.00301609],\n",
       "                       [ 0.14428262, -0.3565232 ,  0.00369839],\n",
       "                       ...,\n",
       "                       [ 0.19129447, -0.29377539,  0.02984673],\n",
       "                       [ 0.19753172, -0.31866212,  0.02914876],\n",
       "                       [ 0.1780751 , -0.30030728,  0.01880399]])})]))"
      ]
     },
     "execution_count": 2,
     "metadata": {},
     "output_type": "execute_result"
    }
   ],
   "source": [
    "env.use_grounded_sam, env.recent_sam_obs"
   ]
  },
  {
   "cell_type": "code",
   "execution_count": 14,
   "metadata": {},
   "outputs": [
    {
     "data": {
      "text/plain": [
       "(odict_keys(['sam_rgb_images', 'sam_xyz_images', 'sam_xyz_masks', 'pred_masks', 'pred_phrases', 'boxes_filt', 'object_pcds', 'object_filt_pcds']),\n",
       " {'red cube': array([[ 0.27719426, -1.06621003,  0.35899004],\n",
       "         [ 0.27719426, -1.06621003,  0.35899004],\n",
       "         [ 0.27719426, -1.06621003,  0.35899004],\n",
       "         ...,\n",
       "         [ 0.48136342, -0.06042967,  0.3297182 ],\n",
       "         [ 0.48136342, -0.06042967,  0.3297182 ],\n",
       "         [ 0.48136342, -0.06042967,  0.3297182 ]]),\n",
       "  'green bowl': array([[ 0.27719426, -1.06621003,  0.35899004],\n",
       "         [ 0.27719426, -1.06621003,  0.35899004],\n",
       "         [ 0.27719426, -1.06621003,  0.35899004],\n",
       "         ...,\n",
       "         [ 0.48136342, -0.06042967,  0.3297182 ],\n",
       "         [ 0.48136342, -0.06042967,  0.3297182 ],\n",
       "         [ 0.48136342, -0.06042967,  0.3297182 ]])})"
      ]
     },
     "execution_count": 14,
     "metadata": {},
     "output_type": "execute_result"
    }
   ],
   "source": [
    "env.recent_sam_obs.keys(), env.recent_sam_obs[\"object_pcds\"]"
   ]
  },
  {
   "cell_type": "code",
   "execution_count": 9,
   "metadata": {},
   "outputs": [
    {
     "ename": "KeyboardInterrupt",
     "evalue": "",
     "output_type": "error",
     "traceback": [
      "\u001b[0;31m---------------------------------------------------------------------------\u001b[0m",
      "\u001b[0;31mKeyboardInterrupt\u001b[0m                         Traceback (most recent call last)",
      "Cell \u001b[0;32mIn[9], line 20\u001b[0m\n\u001b[1;32m     18\u001b[0m     obs_dict[\u001b[39m\"\u001b[39m\u001b[39mbowl_filt_pts\u001b[39m\u001b[39m\"\u001b[39m] \u001b[39m=\u001b[39m \u001b[39mself\u001b[39m\u001b[39m.\u001b[39mrecent_sam_obs[\u001b[39m\"\u001b[39m\u001b[39mobject_filt_pcds\u001b[39m\u001b[39m\"\u001b[39m][\u001b[39m\"\u001b[39m\u001b[39mgreen bowl\u001b[39m\u001b[39m\"\u001b[39m]\n\u001b[1;32m     19\u001b[0m \u001b[39mself\u001b[39m\u001b[39m.\u001b[39mvisualizer\u001b[39m.\u001b[39mshow_observation(\u001b[39m*\u001b[39m\u001b[39m*\u001b[39mobs_dict)\n\u001b[0;32m---> 20\u001b[0m \u001b[39mself\u001b[39;49m\u001b[39m.\u001b[39;49mvisualizer\u001b[39m.\u001b[39;49mrender()\n",
      "File \u001b[0;32m/usr/local/lib/python3.10/dist-packages/real_robot/utils/visualization/visualizer.py:154\u001b[0m, in \u001b[0;36mVisualizer.render\u001b[0;34m(self)\u001b[0m\n\u001b[1;32m    151\u001b[0m \u001b[39m# Render visualizer\u001b[39;00m\n\u001b[1;32m    152\u001b[0m \u001b[39m# self.o3d_vis.render() returns only when not paused or single_step\u001b[39;00m\n\u001b[1;32m    153\u001b[0m \u001b[39mself\u001b[39m\u001b[39m.\u001b[39mcv2_vis\u001b[39m.\u001b[39mrender()\n\u001b[0;32m--> 154\u001b[0m \u001b[39mself\u001b[39;49m\u001b[39m.\u001b[39;49mo3d_vis\u001b[39m.\u001b[39;49mrender(render_step_fn\u001b[39m=\u001b[39;49m\u001b[39mself\u001b[39;49m\u001b[39m.\u001b[39;49mcv2_vis\u001b[39m.\u001b[39;49mrender)\n",
      "File \u001b[0;32m/usr/local/lib/python3.10/dist-packages/real_robot/utils/visualization/o3d_gui_visualizer.py:1311\u001b[0m, in \u001b[0;36mO3DGUIVisualizer.render\u001b[0;34m(self, render_step_fn)\u001b[0m\n\u001b[1;32m   1308\u001b[0m \u001b[39mself\u001b[39m\u001b[39m.\u001b[39mupdate_render_info(\u001b[39m\"\u001b[39m\u001b[39mGUI running\u001b[39m\u001b[39m\"\u001b[39m, color\u001b[39m=\u001b[39m[\u001b[39m0.0\u001b[39m, \u001b[39m1.0\u001b[39m, \u001b[39m0.0\u001b[39m])\n\u001b[1;32m   1310\u001b[0m \u001b[39mwhile\u001b[39;00m \u001b[39mself\u001b[39m\u001b[39m.\u001b[39mnot_closed:\n\u001b[0;32m-> 1311\u001b[0m     \u001b[39mself\u001b[39m\u001b[39m.\u001b[39mnot_closed \u001b[39m=\u001b[39m gui\u001b[39m.\u001b[39;49mApplication\u001b[39m.\u001b[39;49minstance\u001b[39m.\u001b[39;49mrun_one_tick()\n\u001b[1;32m   1312\u001b[0m     \u001b[39mif\u001b[39;00m render_step_fn \u001b[39mis\u001b[39;00m \u001b[39mnot\u001b[39;00m \u001b[39mNone\u001b[39;00m:\n\u001b[1;32m   1313\u001b[0m         render_step_fn()\n",
      "\u001b[0;31mKeyboardInterrupt\u001b[0m: "
     ]
    }
   ],
   "source": [
    "from collections import defaultdict\n",
    "self = env\n",
    "obs_dict = defaultdict(list)\n",
    "for cam_name, img_dict in self.recent_camera_obs.items():\n",
    "    obs_dict[\"camera_names\"].append(cam_name)\n",
    "    obs_dict[\"color_images\"].append(img_dict[\"rgb\"])\n",
    "    if \"depth\" in img_dict:\n",
    "        obs_dict[\"depth_images\"].append(img_dict[\"depth\"])\n",
    "\n",
    "if getattr(self, \"recent_sam_obs\", None) is not None:\n",
    "    obs_dict[\"color_images\"] = list(self.recent_sam_obs[\"sam_rgb_images\"])\n",
    "    obs_dict.pop(\"depth_images\")  # FIXME: visualize resized depth images\n",
    "    obs_dict[\"pred_masks\"] = list(self.recent_sam_obs[\"pred_masks\"])\n",
    "    obs_dict[\"xyz_images\"] = list(self.recent_sam_obs[\"sam_xyz_images\"])\n",
    "    obs_dict[\"cube_pts\"] = self.recent_sam_obs[\"object_pcds\"][\"red cube\"]\n",
    "    obs_dict[\"bowl_pts\"] = self.recent_sam_obs[\"object_pcds\"][\"green bowl\"]\n",
    "    obs_dict[\"cube_filt_pts\"] = self.recent_sam_obs[\"object_filt_pcds\"][\"red cube\"]\n",
    "    obs_dict[\"bowl_filt_pts\"] = self.recent_sam_obs[\"object_filt_pcds\"][\"green bowl\"]\n",
    "self.visualizer.show_observation(**obs_dict)\n",
    "self.visualizer.render()"
   ]
  },
  {
   "cell_type": "code",
   "execution_count": 2,
   "metadata": {},
   "outputs": [
    {
     "data": {
      "text/plain": [
       "(array([ 0.20701366, -0.36612499,  0.01739574]),\n",
       " array([ 0.29024439, -0.19213866,  0.02106138]))"
      ]
     },
     "execution_count": 2,
     "metadata": {},
     "output_type": "execute_result"
    }
   ],
   "source": [
    "import numpy as np\n",
    "self = env\n",
    "\n",
    "cube_pts = self.recent_sam_obs[\"object_filt_pcds\"][\"red cube\"]\n",
    "bowl_pts = self.recent_sam_obs[\"object_filt_pcds\"][\"green bowl\"]\n",
    "# Extract bbox from object_pts\n",
    "cube_mins, cube_maxs = cube_pts.min(0), cube_pts.max(0)\n",
    "bowl_mins, bowl_maxs = bowl_pts.min(0), bowl_pts.max(0)\n",
    "# Extract position from bbox\n",
    "cube_pos = np.mean([cube_mins, cube_maxs], axis=0)\n",
    "bowl_pos = np.mean([bowl_mins, bowl_maxs], axis=0)\n",
    "cube_pos, bowl_pos"
   ]
  },
  {
   "cell_type": "code",
   "execution_count": 6,
   "metadata": {},
   "outputs": [
    {
     "data": {
      "text/plain": [
       "(Pose([0.207014, -0.366125, 0.117396], [0, 0.707107, 0.707107, 0]),\n",
       " Pose([0.207014, -0.366125, 0.0173957], [0, 0.707107, 0.707107, 0]),\n",
       " Pose([0.290244, -0.192139, 0.121061], [0, 0.707107, 0.707107, 0]),\n",
       " Pose([0.290244, -0.192139, 0.0310614], [0, 0.707107, 0.707107, 0]))"
      ]
     },
     "execution_count": 6,
     "metadata": {},
     "output_type": "execute_result"
    }
   ],
   "source": [
    "above_cube_pose = env.agent.build_grasp_pose(cube_pos + [0, 0, 0.1])\n",
    "cube_pose = env.agent.build_grasp_pose(cube_pos)\n",
    "above_bowl_pose = env.agent.build_grasp_pose(bowl_pos + [0, 0, 0.1])\n",
    "bowl_pose = env.agent.build_grasp_pose(bowl_pos + [0, 0, 0.01])\n",
    "\n",
    "above_cube_pose, cube_pose, above_bowl_pose, bowl_pose"
   ]
  },
  {
   "cell_type": "code",
   "execution_count": 7,
   "metadata": {},
   "outputs": [
    {
     "name": "stderr",
     "output_type": "stream",
     "text": [
      "\u001b[38;21mXArm7 - (xarm.py:171) - INFO - 2023-07-26 20:51 - Setting action = array([-3.66122772e+02, -2.56851318e+02,  6.94740753e+01,  5.87305612e-06,\n",
      "        4.98176093e-06,  2.92064222e-06,  8.50000000e+02])\u001b[0m\n"
     ]
    },
    {
     "name": "stdout",
     "output_type": "stream",
     "text": [
      "tgt_tcp_pose = Pose([207.014, -366.125, 117.396], [4.32978e-17, 0.707107, 0.707107, 4.32978e-17])\n"
     ]
    },
    {
     "name": "stderr",
     "output_type": "stream",
     "text": [
      "\u001b[38;21mXArm7 - (xarm.py:171) - INFO - 2023-07-26 20:51 - Setting action = array([-4.57763672e-04, -3.20434570e-04,  1.00000145e+02, -1.50995789e-07,\n",
      "        2.32251577e-08, -5.96046465e-08,  8.50000000e+02])\u001b[0m\n"
     ]
    },
    {
     "name": "stdout",
     "output_type": "stream",
     "text": [
      "tgt_tcp_pose = Pose([207.014, -366.125, 17.3957], [4.32978e-17, 0.707107, 0.707107, 4.32978e-17])\n"
     ]
    },
    {
     "name": "stderr",
     "output_type": "stream",
     "text": [
      "\u001b[38;21mXArm7 - (xarm.py:171) - INFO - 2023-07-26 20:51 - Setting action = array([ 4.88281250e-04,  3.35693359e-04,  5.24520874e-04, -1.50995790e-07,\n",
      "        4.32659588e-08, -5.96046480e-08, -1.00000000e+01])\u001b[0m\n"
     ]
    },
    {
     "name": "stdout",
     "output_type": "stream",
     "text": [
      "tgt_tcp_pose = Pose([207.014, -366.125, 17.3957], [4.32978e-17, 0.707107, 0.707107, 4.32978e-17])\n"
     ]
    },
    {
     "name": "stderr",
     "output_type": "stream",
     "text": [
      "\u001b[38;21mXArm7 - (xarm.py:171) - INFO - 2023-07-26 20:51 - Setting action = array([ 6.10351562e-05,  3.05175781e-05, -1.00000549e+02,  1.50995786e-07,\n",
      "        6.99476007e-08, -5.96046395e-08, -1.00000000e+01])\u001b[0m\n"
     ]
    },
    {
     "name": "stdout",
     "output_type": "stream",
     "text": [
      "tgt_tcp_pose = Pose([207.014, -366.125, 117.396], [4.32978e-17, 0.707107, 0.707107, 4.32978e-17])\n"
     ]
    },
    {
     "name": "stderr",
     "output_type": "stream",
     "text": [
      "\u001b[38;21mXArm7 - (xarm.py:171) - INFO - 2023-07-26 20:52 - Setting action = array([ 1.73986206e+02,  8.32307129e+01, -3.66629028e+00,  1.50995797e-07,\n",
      "       -7.69237520e-08, -5.80758163e-15, -1.00000000e+01])\u001b[0m\n"
     ]
    },
    {
     "name": "stdout",
     "output_type": "stream",
     "text": [
      "tgt_tcp_pose = Pose([290.244, -192.139, 121.061], [4.32978e-17, 0.707107, 0.707107, 4.32978e-17])\n"
     ]
    },
    {
     "name": "stderr",
     "output_type": "stream",
     "text": [
      "\u001b[38;21mXArm7 - (xarm.py:171) - INFO - 2023-07-26 20:52 - Setting action = array([ 5.79833984e-04,  3.35693359e-04,  9.00005951e+01, -8.74228051e-08,\n",
      "       -1.52307397e-07,  1.19209303e-07, -1.00000000e+01])\u001b[0m\n"
     ]
    },
    {
     "name": "stdout",
     "output_type": "stream",
     "text": [
      "tgt_tcp_pose = Pose([290.244, -192.139, 31.0614], [4.32978e-17, 0.707107, 0.707107, 4.32978e-17])\n"
     ]
    },
    {
     "name": "stderr",
     "output_type": "stream",
     "text": [
      "\u001b[38;21mXArm7 - (xarm.py:171) - INFO - 2023-07-26 20:52 - Setting action = array([-5.34057617e-04, -2.74658203e-04,  6.14166260e-04, -1.50995815e-07,\n",
      "       -5.39777374e-08,  1.19209301e-07,  8.50000000e+02])\u001b[0m\n"
     ]
    },
    {
     "name": "stdout",
     "output_type": "stream",
     "text": [
      "tgt_tcp_pose = Pose([290.244, -192.139, 31.0614], [4.32978e-17, 0.707107, 0.707107, 4.32978e-17])\n"
     ]
    }
   ],
   "source": [
    "from transforms3d.euler import quat2euler\n",
    "def get_action(pose, close_gripper=False):\n",
    "    action = np.hstack([pose.p, quat2euler(pose.q), [-1 if close_gripper else 1]])\n",
    "    return action\n",
    "\n",
    "env.step_action(get_action(above_cube_pose))\n",
    "env.step_action(get_action(cube_pose))\n",
    "env.step_action(get_action(cube_pose, True))\n",
    "env.step_action(get_action(above_cube_pose, True))\n",
    "env.step_action(get_action(above_bowl_pose, True))\n",
    "env.step_action(get_action(bowl_pose, True))\n",
    "env.step_action(get_action(bowl_pose, False))"
   ]
  },
  {
   "cell_type": "code",
   "execution_count": 8,
   "metadata": {},
   "outputs": [
    {
     "name": "stdout",
     "output_type": "stream",
     "text": [
      "************* GetErrorWarnCode, Status: 0 **************\n",
      "* ErrorCode: 0, Info: Normal\n",
      "* WarnCode: 0, Info: Normal\n",
      "**************************************************\n",
      "[motion_enable], xArm is not ready to move\n",
      "[set_state], xArm is ready to move\n"
     ]
    }
   ],
   "source": [
    "env.agent.reset()"
   ]
  },
  {
   "cell_type": "code",
   "execution_count": null,
   "metadata": {},
   "outputs": [],
   "source": []
  }
 ],
 "metadata": {
  "kernelspec": {
   "display_name": "Python 3",
   "language": "python",
   "name": "python3"
  },
  "language_info": {
   "codemirror_mode": {
    "name": "ipython",
    "version": 3
   },
   "file_extension": ".py",
   "mimetype": "text/x-python",
   "name": "python",
   "nbconvert_exporter": "python",
   "pygments_lexer": "ipython3",
   "version": "3.10.12"
  },
  "orig_nbformat": 4
 },
 "nbformat": 4,
 "nbformat_minor": 2
}
